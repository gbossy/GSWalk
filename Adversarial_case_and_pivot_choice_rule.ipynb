{
 "cells": [
  {
   "cell_type": "code",
   "execution_count": 1,
   "metadata": {},
   "outputs": [],
   "source": [
    "from gsw import *"
   ]
  },
  {
   "cell_type": "code",
   "execution_count": 20,
   "metadata": {},
   "outputs": [
    {
     "name": "stdout",
     "output_type": "stream",
     "text": [
      "1.7763568394002505e-15\n"
     ]
    }
   ],
   "source": [
    "n=10\n",
    "v=n*[np.array([1,0])]+[np.array([n,0])]\n",
    "tot=0\n",
    "repeat=10**3\n",
    "for i in range(repeat):\n",
    "    res=gram_schmidt_walk(v,np.zeros(n+1),debug=False,bigger_first=True)\n",
    "    output=abs(n*res[n]+sum(res[0:n]))\n",
    "    tot+=output\n",
    "print(tot/repeat)"
   ]
  },
  {
   "cell_type": "code",
   "execution_count": 21,
   "metadata": {},
   "outputs": [
    {
     "name": "stderr",
     "output_type": "stream",
     "text": [
      "C:\\Users\\Ga Bo\\Desktop\\Master Thesis\\GSWalk\\gsw.py:127: FutureWarning: `rcond` parameter will change to the default of machine precision times ``max(M, N)`` where M and N are the input matrix dimensions.\n",
      "To use the future default and silence this warning we advise to pass `rcond=None`, to keep using the old, explicitly pass `rcond=-1`.\n",
      "  u[alive_and_not_pivot]=u1\n"
     ]
    },
    {
     "name": "stdout",
     "output_type": "stream",
     "text": [
      "5.98\n"
     ]
    }
   ],
   "source": [
    "n=10\n",
    "v=n*[np.array([1,0])]+[np.array([n,0])]\n",
    "tot=0\n",
    "repeat=10**3\n",
    "for i in range(repeat):\n",
    "    res=gram_schmidt_walk(v,np.zeros(n+1),debug=False,fast_lst_sq=False)\n",
    "    output=abs(n*res[n]+sum(res[0:n]))\n",
    "    tot+=output\n",
    "print(tot/repeat)"
   ]
  },
  {
   "cell_type": "code",
   "execution_count": 22,
   "metadata": {},
   "outputs": [
    {
     "name": "stdout",
     "output_type": "stream",
     "text": [
      "1.7763568394002505e-15\n"
     ]
    }
   ],
   "source": [
    "n=10\n",
    "v=n*[np.array([1,0])]+[np.array([n,0])]\n",
    "tot=0\n",
    "repeat=10**3\n",
    "for i in range(repeat):\n",
    "    res=gram_schmidt_walk(v,np.zeros(n+1),debug=False,mode='max_norm',fast_lst_sq=False)\n",
    "    output=abs(n*res[n]+sum(res[0:n]))\n",
    "    tot+=output\n",
    "print(tot/repeat)"
   ]
  },
  {
   "cell_type": "code",
   "execution_count": 23,
   "metadata": {},
   "outputs": [
    {
     "name": "stdout",
     "output_type": "stream",
     "text": [
      "6.978\n"
     ]
    }
   ],
   "source": [
    "n=10\n",
    "v=n*[np.array([1,0])]+[np.array([n,0])]\n",
    "tot=0\n",
    "repeat=10**3\n",
    "for i in range(repeat):\n",
    "    res=gram_schmidt_walk(v,np.zeros(n+1),debug=False,mode='norm',fast_lst_sq=False)\n",
    "    output=abs(n*res[n]+sum(res[0:n]))\n",
    "    tot+=output\n",
    "print(tot/repeat)"
   ]
  },
  {
   "cell_type": "code",
   "execution_count": 24,
   "metadata": {},
   "outputs": [
    {
     "name": "stdout",
     "output_type": "stream",
     "text": [
      "0.0\n"
     ]
    }
   ],
   "source": [
    "#with n=100\n",
    "n=100\n",
    "v=n*[np.array([1,0])]+[np.array([n,0])]\n",
    "tot=0\n",
    "repeat=10**3\n",
    "for i in range(repeat):\n",
    "    res=gram_schmidt_walk(v,np.zeros(n+1),debug=False,mode='max_norm',fast_lst_sq=False)\n",
    "    output=abs(n*res[n]+sum(res[0:n]))\n",
    "    tot+=output\n",
    "print(tot/repeat)"
   ]
  },
  {
   "cell_type": "code",
   "execution_count": 25,
   "metadata": {},
   "outputs": [
    {
     "name": "stdout",
     "output_type": "stream",
     "text": [
      "68.178\n"
     ]
    }
   ],
   "source": [
    "#with n=100\n",
    "n=100\n",
    "v=n*[np.array([1,0])]+[np.array([n,0])]\n",
    "tot=0\n",
    "repeat=10**3\n",
    "for i in range(repeat):\n",
    "    res=gram_schmidt_walk(v,np.zeros(n+1),debug=False,mode='norm',fast_lst_sq=False)\n",
    "    output=abs(n*res[n]+sum(res[0:n]))\n",
    "    tot+=output\n",
    "print(tot/repeat)"
   ]
  },
  {
   "cell_type": "code",
   "execution_count": 26,
   "metadata": {},
   "outputs": [
    {
     "name": "stdout",
     "output_type": "stream",
     "text": [
      "66.394\n"
     ]
    }
   ],
   "source": [
    "#with n=100\n",
    "n=100\n",
    "v=n*[np.array([1,0])]+[np.array([n,0])]+n*[np.array([0,1])]+[np.array([0,n])]\n",
    "tot=0\n",
    "repeat=10**3\n",
    "for i in range(repeat):\n",
    "    res=gram_schmidt_walk(v,np.zeros(2*(n+1)),debug=False,mode='max_norm',fast_lst_sq=False)\n",
    "    output=abs(n*res[n]+sum(res[0:n])+n*res[2*n+1]+sum(res[n+1:2*n+1]))\n",
    "    tot+=output\n",
    "print(tot/repeat)"
   ]
  },
  {
   "cell_type": "code",
   "execution_count": 2,
   "metadata": {
    "scrolled": true
   },
   "outputs": [
    {
     "name": "stderr",
     "output_type": "stream",
     "text": [
      "C:\\Users\\Ga Bo\\Desktop\\Master Thesis\\GSWalk\\gsw.py:150: FutureWarning: `rcond` parameter will change to the default of machine precision times ``max(M, N)`` where M and N are the input matrix dimensions.\n",
      "To use the future default and silence this warning we advise to pass `rcond=None`, to keep using the old, explicitly pass `rcond=-1`.\n",
      "  u1=np.linalg.lstsq(B_t,-B[:,p])[0]\n",
      "C:\\Users\\Ga Bo\\Desktop\\Master Thesis\\GSWalk\\gsw.py:324: FutureWarning: `rcond` parameter will change to the default of machine precision times ``max(M, N)`` where M and N are the input matrix dimensions.\n",
      "To use the future default and silence this warning we advise to pass `rcond=None`, to keep using the old, explicitly pass `rcond=-1`.\n",
      "  sol=np.linalg.lstsq(m, i)\n"
     ]
    },
    {
     "name": "stdout",
     "output_type": "stream",
     "text": [
      "Additional constraints breached the framework and were thus discarded\n",
      "Additional constraints breached the framework and were thus discarded\n",
      "Additional constraints breached the framework and were thus discarded\n",
      "Additional constraints breached the framework and were thus discarded\n",
      "Additional constraints breached the framework and were thus discarded\n",
      "Additional constraints breached the framework and were thus discarded\n",
      "Additional constraints breached the framework and were thus discarded\n",
      "Additional constraints breached the framework and were thus discarded\n",
      "Additional constraints breached the framework and were thus discarded\n",
      "65.988\n"
     ]
    }
   ],
   "source": [
    "#new anti adversarial technique\n",
    "n=100\n",
    "v=n*[np.array([1,0])]+[np.array([n,0])]\n",
    "tot=0\n",
    "repeat=10**3\n",
    "for i in range(repeat):\n",
    "    res=gram_schmidt_walk(v,np.zeros(n+1),debug=False)\n",
    "    output=abs(n*res[n]+sum(res[0:n]))\n",
    "    tot+=output\n",
    "print(tot/repeat)"
   ]
  },
  {
   "cell_type": "code",
   "execution_count": 3,
   "metadata": {},
   "outputs": [
    {
     "name": "stdout",
     "output_type": "stream",
     "text": [
      "0.0\n"
     ]
    }
   ],
   "source": [
    "#new anti adversarial technique and max norm which should give 0 issue\n",
    "n=100\n",
    "v=n*[np.array([1,0])]+[np.array([n,0])]\n",
    "tot=0\n",
    "repeat=10**3\n",
    "for i in range(repeat):\n",
    "    res=gram_schmidt_walk(v,np.zeros(n+1),mode='max_norm',debug=False)\n",
    "    output=abs(n*res[n]+sum(res[0:n]))\n",
    "    tot+=output\n",
    "print(tot/repeat)"
   ]
  },
  {
   "cell_type": "code",
   "execution_count": 2,
   "metadata": {
    "scrolled": false
   },
   "outputs": [
    {
     "name": "stderr",
     "output_type": "stream",
     "text": [
      "C:\\Users\\Ga Bo\\Desktop\\Master Thesis\\GSWalk\\gsw.py:152: FutureWarning: `rcond` parameter will change to the default of machine precision times ``max(M, N)`` where M and N are the input matrix dimensions.\n",
      "To use the future default and silence this warning we advise to pass `rcond=None`, to keep using the old, explicitly pass `rcond=-1`.\n",
      "  u1=np.linalg.lstsq(B_t,-B[:,p])[0]\n"
     ]
    },
    {
     "name": "stdout",
     "output_type": "stream",
     "text": [
      "0.0\n"
     ]
    }
   ],
   "source": [
    "#with new anti_adversarial technique\n",
    "n=100\n",
    "v=n*[np.array([1,0])]+[np.array([n,0])]+n*[np.array([0,1])]+[np.array([0,n])]\n",
    "tot=0\n",
    "repeat=10**3\n",
    "for i in range(repeat):\n",
    "    res=gram_schmidt_walk(v,np.zeros(2*(n+1)),debug=False,mode='max_norm',fast_lst_sq=False)\n",
    "    output=abs(n*res[n]+sum(res[0:n])+n*res[2*n+1]+sum(res[n+1:2*n+1]))\n",
    "    tot+=output\n",
    "print(tot/repeat)"
   ]
  },
  {
   "cell_type": "code",
   "execution_count": null,
   "metadata": {},
   "outputs": [],
   "source": []
  }
 ],
 "metadata": {
  "kernelspec": {
   "display_name": "Python 3",
   "language": "python",
   "name": "python3"
  },
  "language_info": {
   "codemirror_mode": {
    "name": "ipython",
    "version": 3
   },
   "file_extension": ".py",
   "mimetype": "text/x-python",
   "name": "python",
   "nbconvert_exporter": "python",
   "pygments_lexer": "ipython3",
   "version": "3.7.7"
  }
 },
 "nbformat": 4,
 "nbformat_minor": 4
}
