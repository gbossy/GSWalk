{
 "cells": [
  {
   "cell_type": "code",
   "execution_count": 2,
   "metadata": {},
   "outputs": [],
   "source": [
    "from gsw import *"
   ]
  },
  {
   "cell_type": "code",
   "execution_count": 2,
   "metadata": {},
   "outputs": [
    {
     "name": "stderr",
     "output_type": "stream",
     "text": [
      "C:\\Users\\Ga Bo\\Desktop\\Master Thesis\\GSWalk\\gsw.py:290: FutureWarning: `rcond` parameter will change to the default of machine precision times ``max(M, N)`` where M and N are the input matrix dimensions.\n",
      "To use the future default and silence this warning we advise to pass `rcond=None`, to keep using the old, explicitly pass `rcond=-1`.\n",
      "  sol=np.linalg.lstsq(m, i)\n"
     ]
    },
    {
     "name": "stdout",
     "output_type": "stream",
     "text": [
      "average proportion of steps where pivot is colored: 0.5378000000000001\n"
     ]
    }
   ],
   "source": [
    "n=100\n",
    "v=sample_from_ball(n,d=100)\n",
    "gsw_xs=[]\n",
    "props=[]\n",
    "for i in range(n):\n",
    "    #print(i)\n",
    "    x,prop=gram_schmidt_walk(v,np.zeros(n),plot=False,debug=False,return_pivot_in_colored=True)\n",
    "    gsw_xs.append(x)\n",
    "    props.append(prop)\n",
    "print(f'average proportion of steps where pivot is colored: {average(props)}')"
   ]
  },
  {
   "cell_type": "code",
   "execution_count": 3,
   "metadata": {},
   "outputs": [
    {
     "name": "stdout",
     "output_type": "stream",
     "text": [
      "average proportion of steps where pivot is colored: 0.5374999999999998\n"
     ]
    }
   ],
   "source": [
    "n=100\n",
    "v=sample_from_ball(n,d=100)\n",
    "gsw_xs=[]\n",
    "props=[]\n",
    "for i in range(n):\n",
    "    #print(i)\n",
    "    x,prop=gram_schmidt_walk(v,np.zeros(n),plot=False,debug=False,return_pivot_in_colored=True,smallest_delta=True)\n",
    "    gsw_xs.append(x)\n",
    "    props.append(prop)\n",
    "print(f'average proportion of steps where pivot is colored: {average(props)}')"
   ]
  },
  {
   "cell_type": "code",
   "execution_count": 2,
   "metadata": {},
   "outputs": [
    {
     "name": "stderr",
     "output_type": "stream",
     "text": [
      "C:\\Users\\Ga Bo\\Desktop\\Master Thesis\\GSWalk\\gsw.py:295: FutureWarning: `rcond` parameter will change to the default of machine precision times ``max(M, N)`` where M and N are the input matrix dimensions.\n",
      "To use the future default and silence this warning we advise to pass `rcond=None`, to keep using the old, explicitly pass `rcond=-1`.\n",
      "  sol=np.linalg.lstsq(m, i)\n"
     ]
    },
    {
     "name": "stdout",
     "output_type": "stream",
     "text": [
      "average proportion of steps where pivot is colored: 0.5154000000000003\n"
     ]
    }
   ],
   "source": [
    "n=200\n",
    "v=sample_from_ball(n,d=n)\n",
    "gsw_xs=[]\n",
    "props=[]\n",
    "for i in range(n):\n",
    "    #print(i)\n",
    "    x,prop=gram_schmidt_walk(v,np.zeros(n),plot=False,debug=False,return_pivot_in_colored=True,mode='norm')\n",
    "    gsw_xs.append(x)\n",
    "    props.append(prop)\n",
    "print(f'average proportion of steps where pivot is colored: {average(props)}')"
   ]
  },
  {
   "cell_type": "code",
   "execution_count": 3,
   "metadata": {},
   "outputs": [
    {
     "name": "stdout",
     "output_type": "stream",
     "text": [
      "average proportion of steps where pivot is colored: 0.5269500000000003\n"
     ]
    }
   ],
   "source": [
    "n=200\n",
    "v=sample_from_ball(n,d=n)\n",
    "gsw_xs=[]\n",
    "props=[]\n",
    "for i in range(n):\n",
    "    #print(i)\n",
    "    x,prop=gram_schmidt_walk(v,np.zeros(n),plot=False,debug=False,return_pivot_in_colored=True,mode='norm',smallest_delta=True)\n",
    "    gsw_xs.append(x)\n",
    "    props.append(prop)\n",
    "print(f'average proportion of steps where pivot is colored: {average(props)}')"
   ]
  },
  {
   "cell_type": "code",
   "execution_count": 4,
   "metadata": {},
   "outputs": [
    {
     "name": "stdout",
     "output_type": "stream",
     "text": [
      "average proportion of steps where pivot is colored: 0.5214250000000004\n"
     ]
    }
   ],
   "source": [
    "n=200\n",
    "v=sample_from_ball(n,d=n)\n",
    "gsw_xs=[]\n",
    "props=[]\n",
    "for i in range(n):\n",
    "    #print(i)\n",
    "    x,prop=gram_schmidt_walk(v,np.zeros(n),plot=False,debug=False,return_pivot_in_colored=True,mode='max_norm')\n",
    "    gsw_xs.append(x)\n",
    "    props.append(prop)\n",
    "print(f'average proportion of steps where pivot is colored: {average(props)}')"
   ]
  },
  {
   "cell_type": "code",
   "execution_count": 5,
   "metadata": {},
   "outputs": [
    {
     "name": "stdout",
     "output_type": "stream",
     "text": [
      "average proportion of steps where pivot is colored: 0.5368000000000002\n"
     ]
    }
   ],
   "source": [
    "n=200\n",
    "v=sample_from_ball(n,d=n)\n",
    "gsw_xs=[]\n",
    "props=[]\n",
    "for i in range(n):\n",
    "    #print(i)\n",
    "    x,prop=gram_schmidt_walk(v,np.zeros(n),plot=False,debug=False,return_pivot_in_colored=True,mode='max_norm',smallest_delta=True)\n",
    "    gsw_xs.append(x)\n",
    "    props.append(prop)\n",
    "print(f'average proportion of steps where pivot is colored: {average(props)}')"
   ]
  },
  {
   "cell_type": "code",
   "execution_count": null,
   "metadata": {},
   "outputs": [],
   "source": []
  },
  {
   "cell_type": "code",
   "execution_count": 3,
   "metadata": {},
   "outputs": [
    {
     "name": "stderr",
     "output_type": "stream",
     "text": [
      "C:\\Users\\Ga Bo\\Desktop\\Master Thesis\\GSWalk\\gsw.py:290: FutureWarning: `rcond` parameter will change to the default of machine precision times ``max(M, N)`` where M and N are the input matrix dimensions.\n",
      "To use the future default and silence this warning we advise to pass `rcond=None`, to keep using the old, explicitly pass `rcond=-1`.\n",
      "  sol=np.linalg.lstsq(m, i)\n"
     ]
    },
    {
     "name": "stdout",
     "output_type": "stream",
     "text": [
      "v_perp:[-1.42108547e-14 -1.42108547e-14]\n",
      "v_perp-sum u_i*v_i:[ 1.89537275e-09 -3.27419514e-09]\n",
      "v_perp:[0.00000000e+00 1.42108547e-14]\n",
      "v_perp-sum u_i*v_i:[ 2.84597945e-09 -2.43296938e-09]\n",
      "v_perp:[0. 0.]\n",
      "v_perp-sum u_i*v_i:[5.99357008e-10 2.70824785e-09]\n",
      "v_perp:[-3.55271368e-15  0.00000000e+00]\n",
      "v_perp-sum u_i*v_i:[-2.33703794e-08 -4.39467840e-09]\n",
      "v_perp:[-61.77868119  15.36271653]\n",
      "v_perp-sum u_i*v_i:[-1.37835343e-09 -5.54285862e-09]\n",
      "v_perp:[-1.42108547e-14  0.00000000e+00]\n",
      "v_perp-sum u_i*v_i:[ 6.58695853e-09 -2.14937188e-08]\n",
      "v_perp:[0. 0.]\n",
      "v_perp-sum u_i*v_i:[8.54197424e-08 2.22207746e-08]\n",
      "v_perp:[-62.86770643 117.08210311]\n",
      "v_perp-sum u_i*v_i:[7.50378604e-09 4.02917522e-09]\n",
      "average proportion of steps where pivot is colored: 0.9726749999999997\n"
     ]
    }
   ],
   "source": [
    "n=200\n",
    "v=sample_from_ball(n,d=2)\n",
    "for i in range(len(v)):\n",
    "    v[i]=normalize(v[i])*(i+1)\n",
    "    gsw_xs=[]\n",
    "props=[]\n",
    "for i in range(n):\n",
    "    #print(i)\n",
    "    x,prop=gram_schmidt_walk(v,np.zeros(n),plot=False,debug=False,return_pivot_in_colored=True,smallest_delta=False)\n",
    "    gsw_xs.append(x)\n",
    "    props.append(prop)\n",
    "print(f'average proportion of steps where pivot is colored: {average(props)}')"
   ]
  },
  {
   "cell_type": "code",
   "execution_count": 4,
   "metadata": {},
   "outputs": [
    {
     "name": "stdout",
     "output_type": "stream",
     "text": [
      "v_perp:[-2.84217094e-14  0.00000000e+00]\n",
      "v_perp-sum u_i*v_i:[-2.63074185e-09  3.09270831e-10]\n",
      "v_perp:[0. 0.]\n",
      "v_perp-sum u_i*v_i:[-5.45696821e-08  2.30793376e-08]\n",
      "v_perp:[0. 0.]\n",
      "v_perp-sum u_i*v_i:[-2.21552909e-09 -1.35332812e-09]\n",
      "average proportion of steps where pivot is colored: 0.9839000000000016\n"
     ]
    }
   ],
   "source": [
    "n=200\n",
    "v=sample_from_ball(n,d=2)\n",
    "for i in range(len(v)):\n",
    "    v[i]=normalize(v[i])*(i+1)\n",
    "    gsw_xs=[]\n",
    "props=[]\n",
    "for i in range(n):\n",
    "    #print(i)\n",
    "    x,prop=gram_schmidt_walk(v,np.zeros(n),plot=False,debug=False,return_pivot_in_colored=True,smallest_delta=True)\n",
    "    gsw_xs.append(x)\n",
    "    props.append(prop)\n",
    "print(f'average proportion of steps where pivot is colored: {average(props)}')"
   ]
  },
  {
   "cell_type": "code",
   "execution_count": 6,
   "metadata": {},
   "outputs": [
    {
     "name": "stderr",
     "output_type": "stream",
     "text": [
      "C:\\Users\\Ga Bo\\Desktop\\Master Thesis\\GSWalk\\gsw.py:127: FutureWarning: `rcond` parameter will change to the default of machine precision times ``max(M, N)`` where M and N are the input matrix dimensions.\n",
      "To use the future default and silence this warning we advise to pass `rcond=None`, to keep using the old, explicitly pass `rcond=-1`.\n",
      "  u1=np.linalg.lstsq(B_t,-B[:,p])[0]\n"
     ]
    },
    {
     "name": "stdout",
     "output_type": "stream",
     "text": [
      "v_perp:[0.00000000e+00 7.10542736e-15]\n",
      "v_perp-sum u_i*v_i:[-2.23585630e-08  7.36691419e-09]\n",
      "v_perp:[12.77938683 -2.16474263]\n",
      "v_perp-sum u_i*v_i:[-1.37451828e-09 -8.11434830e-09]\n",
      "v_perp:[-7.10542736e-15  0.00000000e+00]\n",
      "v_perp-sum u_i*v_i:[ 6.91942859e-09 -5.26779331e-09]\n",
      "v_perp:[-99.0379233   53.95691526]\n",
      "v_perp-sum u_i*v_i:[-6.12047302e-10 -1.12342491e-09]\n",
      "v_perp:[7.10542736e-15 1.42108547e-14]\n",
      "v_perp-sum u_i*v_i:[ 3.29244187e-10 -3.26507177e-09]\n",
      "v_perp:[0. 0.]\n",
      "v_perp-sum u_i*v_i:[-2.63855071e-09  5.93581717e-09]\n",
      "v_perp:[-78.68789676  72.78042809]\n",
      "v_perp-sum u_i*v_i:[3.45539775e-09 3.73586317e-09]\n",
      "v_perp:[0. 0.]\n",
      "v_perp-sum u_i*v_i:[ 2.78669177e-09 -8.20182322e-09]\n",
      "v_perp:[  3.8214434 -72.2671315]\n",
      "v_perp-sum u_i*v_i:[2.14750884e-09 1.13558940e-10]\n",
      "average proportion of steps where pivot is colored: 0.971475\n"
     ]
    }
   ],
   "source": [
    "n=200\n",
    "v=sample_from_ball(n,d=2)\n",
    "for i in range(len(v)):\n",
    "    v[i]=normalize(v[i])*(i+1)\n",
    "    gsw_xs=[]\n",
    "props=[]\n",
    "for i in range(n):\n",
    "    #print(i)\n",
    "    x,prop=gram_schmidt_walk(v,np.zeros(n),plot=False,debug=False,return_pivot_in_colored=True,smallest_delta=False,mode='norm')\n",
    "    gsw_xs.append(x)\n",
    "    props.append(prop)\n",
    "print(f'average proportion of steps where pivot is colored: {average(props)}')"
   ]
  },
  {
   "cell_type": "code",
   "execution_count": 7,
   "metadata": {},
   "outputs": [
    {
     "name": "stdout",
     "output_type": "stream",
     "text": [
      "v_perp:[-7.10542736e-15  2.84217094e-14]\n",
      "v_perp-sum u_i*v_i:[-7.75454154e-08 -1.06628789e-07]\n",
      "v_perp:[ -68.90735979 -111.76912345]\n",
      "v_perp-sum u_i*v_i:[-9.80249126e-09  6.04336492e-09]\n",
      "average proportion of steps where pivot is colored: 0.9835500000000007\n"
     ]
    }
   ],
   "source": [
    "n=200\n",
    "v=sample_from_ball(n,d=2)\n",
    "for i in range(len(v)):\n",
    "    v[i]=normalize(v[i])*(i+1)\n",
    "    gsw_xs=[]\n",
    "props=[]\n",
    "for i in range(n):\n",
    "    #print(i)\n",
    "    x,prop=gram_schmidt_walk(v,np.zeros(n),plot=False,debug=False,return_pivot_in_colored=True,smallest_delta=True,mode='norm')\n",
    "    gsw_xs.append(x)\n",
    "    props.append(prop)\n",
    "print(f'average proportion of steps where pivot is colored: {average(props)}')"
   ]
  },
  {
   "cell_type": "code",
   "execution_count": 8,
   "metadata": {},
   "outputs": [
    {
     "name": "stdout",
     "output_type": "stream",
     "text": [
      "v_perp:[3.55271368e-15 0.00000000e+00]\n",
      "v_perp-sum u_i*v_i:[-1.12773790e-10 -3.00087777e-09]\n",
      "v_perp:[-1.42108547e-14 -2.84217094e-14]\n",
      "v_perp-sum u_i*v_i:[-1.23705490e-10 -1.94907557e-09]\n",
      "v_perp:[3.55271368e-15 0.00000000e+00]\n",
      "v_perp-sum u_i*v_i:[2.59774602e-09 7.19600735e-09]\n",
      "v_perp:[ 76.87807749 -34.50169379]\n",
      "v_perp-sum u_i*v_i:[2.40596876e-09 5.36110178e-09]\n",
      "average proportion of steps where pivot is colored: 0.9728000000000004\n"
     ]
    }
   ],
   "source": [
    "n=200\n",
    "v=sample_from_ball(n,d=2)\n",
    "for i in range(len(v)):\n",
    "    v[i]=normalize(v[i])*(i+1)\n",
    "    gsw_xs=[]\n",
    "props=[]\n",
    "for i in range(n):\n",
    "    #print(i)\n",
    "    x,prop=gram_schmidt_walk(v,np.zeros(n),plot=False,debug=False,return_pivot_in_colored=True,smallest_delta=False,mode='max_norm')\n",
    "    gsw_xs.append(x)\n",
    "    props.append(prop)\n",
    "print(f'average proportion of steps where pivot is colored: {average(props)}')"
   ]
  },
  {
   "cell_type": "code",
   "execution_count": 3,
   "metadata": {},
   "outputs": [
    {
     "name": "stderr",
     "output_type": "stream",
     "text": [
      "C:\\Users\\Ga Bo\\Desktop\\Master Thesis\\GSWalk\\gsw.py:127: FutureWarning: `rcond` parameter will change to the default of machine precision times ``max(M, N)`` where M and N are the input matrix dimensions.\n",
      "To use the future default and silence this warning we advise to pass `rcond=None`, to keep using the old, explicitly pass `rcond=-1`.\n",
      "  u1=np.linalg.lstsq(B_t,-B[:,p])[0]\n",
      "C:\\Users\\Ga Bo\\Desktop\\Master Thesis\\GSWalk\\gsw.py:295: FutureWarning: `rcond` parameter will change to the default of machine precision times ``max(M, N)`` where M and N are the input matrix dimensions.\n",
      "To use the future default and silence this warning we advise to pass `rcond=None`, to keep using the old, explicitly pass `rcond=-1`.\n",
      "  sol=np.linalg.lstsq(m, i)\n"
     ]
    },
    {
     "name": "stdout",
     "output_type": "stream",
     "text": [
      "v_perp:[0. 0.]\n",
      "v_perp-sum u_i*v_i:[-4.02128535e-08 -9.50953023e-08]\n",
      "v_perp:[-32.93454741 -37.70215208]\n",
      "v_perp-sum u_i*v_i:[ 6.51565557e-08 -5.69172016e-08]\n",
      "v_perp:[2.84217094e-14 0.00000000e+00]\n",
      "v_perp-sum u_i*v_i:[ 1.89203320e-10 -2.40106601e-09]\n",
      "v_perp:[91.33426772 76.43583512]\n",
      "v_perp-sum u_i*v_i:[ 1.21755761e-09 -1.45487888e-09]\n",
      "v_perp:[2.84217094e-14 0.00000000e+00]\n",
      "v_perp-sum u_i*v_i:[-1.02747322e-09  1.15036869e-11]\n",
      "v_perp:[-1.42108547e-14  0.00000000e+00]\n",
      "v_perp-sum u_i*v_i:[-2.38718911e-08 -1.65443836e-09]\n",
      "v_perp:[-68.8051467   -6.80607159]\n",
      "v_perp-sum u_i*v_i:[-3.88354238e-10  3.92613231e-09]\n",
      "v_perp:[-1.77635684e-15  2.84217094e-14]\n",
      "v_perp-sum u_i*v_i:[6.79210466e-09 1.43482168e-08]\n",
      "v_perp:[ 57.50710363 -23.6807598 ]\n",
      "v_perp-sum u_i*v_i:[3.72870090e-09 9.05492925e-09]\n",
      "v_perp:[-1.42108547e-14 -2.84217094e-14]\n",
      "v_perp-sum u_i*v_i:[-4.54889459e-11 -1.27451472e-09]\n",
      "average proportion of steps where pivot is colored: 0.9827500000000007\n"
     ]
    }
   ],
   "source": [
    "n=200\n",
    "v=sample_from_ball(n,d=2)\n",
    "for i in range(len(v)):\n",
    "    v[i]=normalize(v[i])*(i+1)\n",
    "    gsw_xs=[]\n",
    "props=[]\n",
    "for i in range(n):\n",
    "    #print(i)\n",
    "    x,prop=gram_schmidt_walk(v,np.zeros(n),plot=False,debug=False,return_pivot_in_colored=True,smallest_delta=True,mode='max_norm')\n",
    "    gsw_xs.append(x)\n",
    "    props.append(prop)\n",
    "print(f'average proportion of steps where pivot is colored: {average(props)}')"
   ]
  },
  {
   "cell_type": "code",
   "execution_count": null,
   "metadata": {},
   "outputs": [],
   "source": []
  }
 ],
 "metadata": {
  "kernelspec": {
   "display_name": "Python 3",
   "language": "python",
   "name": "python3"
  },
  "language_info": {
   "codemirror_mode": {
    "name": "ipython",
    "version": 3
   },
   "file_extension": ".py",
   "mimetype": "text/x-python",
   "name": "python",
   "nbconvert_exporter": "python",
   "pygments_lexer": "ipython3",
   "version": "3.7.7"
  }
 },
 "nbformat": 4,
 "nbformat_minor": 4
}
