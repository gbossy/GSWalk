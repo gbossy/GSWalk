{
 "cells": [
  {
   "cell_type": "code",
   "execution_count": 21,
   "metadata": {},
   "outputs": [],
   "source": [
    "from gsw import *"
   ]
  },
  {
   "cell_type": "code",
   "execution_count": 22,
   "metadata": {},
   "outputs": [],
   "source": [
    "d=2"
   ]
  },
  {
   "cell_type": "code",
   "execution_count": 23,
   "metadata": {},
   "outputs": [
    {
     "name": "stdout",
     "output_type": "stream",
     "text": [
      "average proportion of steps where pivot is colored: 0.9597999999999994\n"
     ]
    }
   ],
   "source": [
    "n=100\n",
    "v=sample_from_ball(n,d=d)\n",
    "gsw_xs=[]\n",
    "props=[]\n",
    "for i in range(n):\n",
    "    #print(i)\n",
    "    x,prop=gram_schmidt_walk(v,np.zeros(n),plot=False,debug=False,return_pivot_in_colored=True)\n",
    "    gsw_xs.append(x)\n",
    "    props.append(prop)\n",
    "print(f'average proportion of steps where pivot is colored: {average(props)}')"
   ]
  },
  {
   "cell_type": "code",
   "execution_count": 24,
   "metadata": {},
   "outputs": [
    {
     "name": "stdout",
     "output_type": "stream",
     "text": [
      "average proportion of steps where pivot is colored: 0.9731999999999996\n"
     ]
    }
   ],
   "source": [
    "n=100\n",
    "v=sample_from_ball(n,d=d)\n",
    "gsw_xs=[]\n",
    "props=[]\n",
    "for i in range(n):\n",
    "    #print(i)\n",
    "    x,prop=gram_schmidt_walk(v,np.zeros(n),plot=False,debug=False,return_pivot_in_colored=True,smallest_delta=True)\n",
    "    gsw_xs.append(x)\n",
    "    props.append(prop)\n",
    "print(f'average proportion of steps where pivot is colored: {average(props)}')"
   ]
  },
  {
   "cell_type": "code",
   "execution_count": 25,
   "metadata": {},
   "outputs": [
    {
     "name": "stdout",
     "output_type": "stream",
     "text": [
      "average proportion of steps where pivot is colored: 0.9406999999999998\n"
     ]
    }
   ],
   "source": [
    "n=100\n",
    "v=sample_from_ball(n,d=d)\n",
    "gsw_xs=[]\n",
    "props=[]\n",
    "for i in range(n):\n",
    "    #print(i)\n",
    "    x,prop=gram_schmidt_walk(v,np.zeros(n),plot=False,debug=False,return_pivot_in_colored=True,mode='norm')\n",
    "    gsw_xs.append(x)\n",
    "    props.append(prop)\n",
    "print(f'average proportion of steps where pivot is colored: {average(props)}')"
   ]
  },
  {
   "cell_type": "code",
   "execution_count": 26,
   "metadata": {},
   "outputs": [
    {
     "name": "stdout",
     "output_type": "stream",
     "text": [
      "average proportion of steps where pivot is colored: 0.9639999999999996\n"
     ]
    }
   ],
   "source": [
    "n=100\n",
    "v=sample_from_ball(n,d=d)\n",
    "gsw_xs=[]\n",
    "props=[]\n",
    "for i in range(n):\n",
    "    #print(i)\n",
    "    x,prop=gram_schmidt_walk(v,np.zeros(n),plot=False,debug=False,return_pivot_in_colored=True,mode='norm',smallest_delta=True)\n",
    "    gsw_xs.append(x)\n",
    "    props.append(prop)\n",
    "print(f'average proportion of steps where pivot is colored: {average(props)}')"
   ]
  },
  {
   "cell_type": "code",
   "execution_count": 27,
   "metadata": {},
   "outputs": [
    {
     "name": "stdout",
     "output_type": "stream",
     "text": [
      "average proportion of steps where pivot is colored: 0.9262000000000001\n"
     ]
    }
   ],
   "source": [
    "n=100\n",
    "v=sample_from_ball(n,d=d)\n",
    "gsw_xs=[]\n",
    "props=[]\n",
    "for i in range(n):\n",
    "    #print(i)\n",
    "    x,prop=gram_schmidt_walk(v,np.zeros(n),plot=False,debug=False,return_pivot_in_colored=True,mode='max_norm')\n",
    "    gsw_xs.append(x)\n",
    "    props.append(prop)\n",
    "print(f'average proportion of steps where pivot is colored: {average(props)}')"
   ]
  },
  {
   "cell_type": "code",
   "execution_count": 28,
   "metadata": {},
   "outputs": [
    {
     "name": "stdout",
     "output_type": "stream",
     "text": [
      "average proportion of steps where pivot is colored: 0.9720999999999991\n"
     ]
    }
   ],
   "source": [
    "n=100\n",
    "v=sample_from_ball(n,d=d)\n",
    "gsw_xs=[]\n",
    "props=[]\n",
    "for i in range(n):\n",
    "    #print(i)\n",
    "    x,prop=gram_schmidt_walk(v,np.zeros(n),plot=False,debug=False,return_pivot_in_colored=True,mode='max_norm',smallest_delta=True)\n",
    "    gsw_xs.append(x)\n",
    "    props.append(prop)\n",
    "print(f'average proportion of steps where pivot is colored: {average(props)}')"
   ]
  },
  {
   "cell_type": "code",
   "execution_count": null,
   "metadata": {},
   "outputs": [],
   "source": []
  },
  {
   "cell_type": "code",
   "execution_count": 29,
   "metadata": {},
   "outputs": [
    {
     "name": "stdout",
     "output_type": "stream",
     "text": [
      "average proportion of steps where pivot is colored: 0.9499\n"
     ]
    }
   ],
   "source": [
    "n=100\n",
    "v=sample_from_ball(n,d=d)\n",
    "for i in range(len(v)):\n",
    "    v[i]=normalize(v[i])*(i+1)\n",
    "    gsw_xs=[]\n",
    "props=[]\n",
    "for i in range(n):\n",
    "    #print(i)\n",
    "    x,prop=gram_schmidt_walk(v,np.zeros(n),plot=False,debug=False,return_pivot_in_colored=True,smallest_delta=False)\n",
    "    gsw_xs.append(x)\n",
    "    props.append(prop)\n",
    "print(f'average proportion of steps where pivot is colored: {average(props)}')"
   ]
  },
  {
   "cell_type": "code",
   "execution_count": 30,
   "metadata": {},
   "outputs": [
    {
     "name": "stdout",
     "output_type": "stream",
     "text": [
      "average proportion of steps where pivot is colored: 0.9624999999999995\n"
     ]
    }
   ],
   "source": [
    "n=100\n",
    "v=sample_from_ball(n,d=d)\n",
    "for i in range(len(v)):\n",
    "    v[i]=normalize(v[i])*(i+1)\n",
    "    gsw_xs=[]\n",
    "props=[]\n",
    "for i in range(n):\n",
    "    #print(i)\n",
    "    x,prop=gram_schmidt_walk(v,np.zeros(n),plot=False,debug=False,return_pivot_in_colored=True,smallest_delta=True)\n",
    "    gsw_xs.append(x)\n",
    "    props.append(prop)\n",
    "print(f'average proportion of steps where pivot is colored: {average(props)}')"
   ]
  },
  {
   "cell_type": "code",
   "execution_count": 31,
   "metadata": {},
   "outputs": [
    {
     "name": "stdout",
     "output_type": "stream",
     "text": [
      "average proportion of steps where pivot is colored: 0.8896\n"
     ]
    }
   ],
   "source": [
    "n=100\n",
    "v=sample_from_ball(n,d=d)\n",
    "for i in range(len(v)):\n",
    "    v[i]=normalize(v[i])*(i+1)\n",
    "    gsw_xs=[]\n",
    "props=[]\n",
    "for i in range(n):\n",
    "    #print(i)\n",
    "    x,prop=gram_schmidt_walk(v,np.zeros(n),plot=False,debug=False,return_pivot_in_colored=True,smallest_delta=False,mode='norm')\n",
    "    gsw_xs.append(x)\n",
    "    props.append(prop)\n",
    "print(f'average proportion of steps where pivot is colored: {average(props)}')"
   ]
  },
  {
   "cell_type": "code",
   "execution_count": 32,
   "metadata": {},
   "outputs": [
    {
     "name": "stdout",
     "output_type": "stream",
     "text": [
      "average proportion of steps where pivot is colored: 0.9106000000000006\n"
     ]
    }
   ],
   "source": [
    "n=100\n",
    "v=sample_from_ball(n,d=d)\n",
    "for i in range(len(v)):\n",
    "    v[i]=normalize(v[i])*(i+1)\n",
    "    gsw_xs=[]\n",
    "props=[]\n",
    "for i in range(n):\n",
    "    #print(i)\n",
    "    x,prop=gram_schmidt_walk(v,np.zeros(n),plot=False,debug=False,return_pivot_in_colored=True,smallest_delta=True,mode='norm')\n",
    "    gsw_xs.append(x)\n",
    "    props.append(prop)\n",
    "print(f'average proportion of steps where pivot is colored: {average(props)}')"
   ]
  },
  {
   "cell_type": "code",
   "execution_count": 33,
   "metadata": {},
   "outputs": [
    {
     "name": "stdout",
     "output_type": "stream",
     "text": [
      "average proportion of steps where pivot is colored: 0.9136\n"
     ]
    }
   ],
   "source": [
    "n=100\n",
    "v=sample_from_ball(n,d=d)\n",
    "for i in range(len(v)):\n",
    "    v[i]=normalize(v[i])*(i+1)\n",
    "    gsw_xs=[]\n",
    "props=[]\n",
    "for i in range(n):\n",
    "    #print(i)\n",
    "    x,prop=gram_schmidt_walk(v,np.zeros(n),plot=False,debug=False,return_pivot_in_colored=True,smallest_delta=False,mode='max_norm')\n",
    "    gsw_xs.append(x)\n",
    "    props.append(prop)\n",
    "print(f'average proportion of steps where pivot is colored: {average(props)}')"
   ]
  },
  {
   "cell_type": "code",
   "execution_count": 34,
   "metadata": {},
   "outputs": [
    {
     "name": "stdout",
     "output_type": "stream",
     "text": [
      "average proportion of steps where pivot is colored: 0.9380000000000003\n"
     ]
    }
   ],
   "source": [
    "n=100\n",
    "v=sample_from_ball(n,d=d)\n",
    "for i in range(len(v)):\n",
    "    v[i]=normalize(v[i])*(i+1)\n",
    "gsw_xs=[]\n",
    "props=[]\n",
    "for i in range(n):\n",
    "    #print(i)\n",
    "    x,prop=gram_schmidt_walk(v,np.zeros(n),plot=False,debug=False,return_pivot_in_colored=True,smallest_delta=True,mode='max_norm')\n",
    "    gsw_xs.append(x)\n",
    "    props.append(prop)\n",
    "print(f'average proportion of steps where pivot is colored: {average(props)}')"
   ]
  },
  {
   "cell_type": "code",
   "execution_count": 35,
   "metadata": {},
   "outputs": [
    {
     "name": "stdout",
     "output_type": "stream",
     "text": [
      "average proportion of steps where pivot is colored: 0.4970999999999999\n"
     ]
    }
   ],
   "source": [
    "#Now third vector set\n",
    "n=100\n",
    "v=sample_from_ball(n,d=d)\n",
    "for i in range(len(v)):\n",
    "    v[i]=normalize(v[i])*(1 if i<n/2 else n)\n",
    "gsw_xs=[]\n",
    "props=[]\n",
    "for i in range(n):\n",
    "    x,prop=gram_schmidt_walk(v,np.zeros(n),plot=False,debug=False,return_pivot_in_colored=True,smallest_delta=True,mode='max_norm')\n",
    "    gsw_xs.append(x)\n",
    "    props.append(prop)\n",
    "print(f'average proportion of steps where pivot is colored: {average(props)}')"
   ]
  },
  {
   "cell_type": "code",
   "execution_count": 36,
   "metadata": {},
   "outputs": [
    {
     "name": "stdout",
     "output_type": "stream",
     "text": [
      "v_perp:[0.00000000e+00 1.42108547e-14]\n",
      "v_perp-sum u_i*v_i:[3.95904690e-06 2.27051885e-05]\n",
      "v_perp:[28.21943755  6.21939162]\n",
      "v_perp-sum u_i*v_i:[-2.45626962e-06  1.11449080e-05]\n",
      "v_perp:[-4.44089210e-15  2.84217094e-14]\n",
      "v_perp-sum u_i*v_i:[-9.36476983e-06  2.00237378e-05]\n",
      "v_perp:[-15.58672181  -3.43521825]\n",
      "v_perp-sum u_i*v_i:[-2.53283434e-06  1.14923075e-05]\n",
      "average proportion of steps where pivot is colored: 0.48869999999999997\n"
     ]
    }
   ],
   "source": [
    "#Now third vector set\n",
    "n=100\n",
    "v=sample_from_ball(n,d=d)\n",
    "for i in range(len(v)):\n",
    "    v[i]=normalize(v[i])*(1 if i<n/2 else n)\n",
    "gsw_xs=[]\n",
    "props=[]\n",
    "for i in range(n):\n",
    "    x,prop=gram_schmidt_walk(v,np.zeros(n),plot=False,debug=False,return_pivot_in_colored=True,smallest_delta=False,mode='max_norm')\n",
    "    gsw_xs.append(x)\n",
    "    props.append(prop)\n",
    "print(f'average proportion of steps where pivot is colored: {average(props)}')"
   ]
  },
  {
   "cell_type": "code",
   "execution_count": 37,
   "metadata": {},
   "outputs": [
    {
     "name": "stdout",
     "output_type": "stream",
     "text": [
      "average proportion of steps where pivot is colored: 0.9416999999999999\n"
     ]
    }
   ],
   "source": [
    "#Now third vector set\n",
    "n=100\n",
    "v=sample_from_ball(n,d=d)\n",
    "for i in range(len(v)):\n",
    "    v[i]=normalize(v[i])*(1 if i<n/2 else n)\n",
    "gsw_xs=[]\n",
    "props=[]\n",
    "for i in range(n):\n",
    "    x,prop=gram_schmidt_walk(v,np.zeros(n),plot=False,debug=False,return_pivot_in_colored=True,smallest_delta=True,mode='random')\n",
    "    gsw_xs.append(x)\n",
    "    props.append(prop)\n",
    "print(f'average proportion of steps where pivot is colored: {average(props)}')"
   ]
  },
  {
   "cell_type": "code",
   "execution_count": 38,
   "metadata": {},
   "outputs": [
    {
     "name": "stdout",
     "output_type": "stream",
     "text": [
      "average proportion of steps where pivot is colored: 0.9164000000000003\n"
     ]
    }
   ],
   "source": [
    "#Now third vector set\n",
    "n=100\n",
    "v=sample_from_ball(n,d=d)\n",
    "for i in range(len(v)):\n",
    "    v[i]=normalize(v[i])*(1 if i<n/2 else n)\n",
    "gsw_xs=[]\n",
    "props=[]\n",
    "for i in range(n):\n",
    "    x,prop=gram_schmidt_walk(v,np.zeros(n),plot=False,debug=False,return_pivot_in_colored=True,smallest_delta=False,mode='random')\n",
    "    gsw_xs.append(x)\n",
    "    props.append(prop)\n",
    "print(f'average proportion of steps where pivot is colored: {average(props)}')"
   ]
  },
  {
   "cell_type": "code",
   "execution_count": 39,
   "metadata": {},
   "outputs": [
    {
     "name": "stdout",
     "output_type": "stream",
     "text": [
      "v_perp:[0. 0.]\n",
      "v_perp-sum u_i*v_i:[2.63516358e-06 8.30041245e-08]\n",
      "v_perp:[-1.77635684e-15  2.84217094e-14]\n",
      "v_perp-sum u_i*v_i:[ 4.85106577e-07 -6.00062359e-06]\n",
      "average proportion of steps where pivot is colored: 0.5304999999999999\n"
     ]
    }
   ],
   "source": [
    "#Now third vector set\n",
    "n=100\n",
    "v=sample_from_ball(n,d=d)\n",
    "for i in range(len(v)):\n",
    "    v[i]=normalize(v[i])*(1 if i<n/2 else n)\n",
    "gsw_xs=[]\n",
    "props=[]\n",
    "for i in range(n):\n",
    "    x,prop=gram_schmidt_walk(v,np.zeros(n),plot=False,debug=False,return_pivot_in_colored=True,smallest_delta=True,mode='norm')\n",
    "    gsw_xs.append(x)\n",
    "    props.append(prop)\n",
    "print(f'average proportion of steps where pivot is colored: {average(props)}')"
   ]
  },
  {
   "cell_type": "code",
   "execution_count": 40,
   "metadata": {},
   "outputs": [
    {
     "name": "stdout",
     "output_type": "stream",
     "text": [
      "v_perp:[ 3.55271368e-15 -2.84217094e-14]\n",
      "v_perp-sum u_i*v_i:[2.88123556e-06 5.12991363e-07]\n",
      "v_perp:[ 0.00000000e+00 -7.10542736e-15]\n",
      "v_perp-sum u_i*v_i:[-5.61340858e-06 -9.22038460e-07]\n",
      "v_perp:[0.00000000e+00 7.10542736e-15]\n",
      "v_perp-sum u_i*v_i:[0.00202737 0.00034416]\n",
      "v_perp:[-96.35786488 -16.05880471]\n",
      "v_perp-sum u_i*v_i:[ 1.66969400e-07 -1.00186873e-06]\n",
      "v_perp:[ 0.00000000e+00 -1.42108547e-14]\n",
      "v_perp-sum u_i*v_i:[-0.00141091 -0.00024812]\n",
      "v_perp:[67.12616451 11.18710931]\n",
      "v_perp-sum u_i*v_i:[-5.72125217e-07  3.43293073e-06]\n",
      "average proportion of steps where pivot is colored: 0.4997999999999999\n"
     ]
    }
   ],
   "source": [
    "#Now third vector set\n",
    "n=100\n",
    "v=sample_from_ball(n,d=d)\n",
    "for i in range(len(v)):\n",
    "    v[i]=normalize(v[i])*(1 if i<n/2 else n)\n",
    "gsw_xs=[]\n",
    "props=[]\n",
    "for i in range(n):\n",
    "    x,prop=gram_schmidt_walk(v,np.zeros(n),plot=False,debug=False,return_pivot_in_colored=True,smallest_delta=False,mode='norm')\n",
    "    gsw_xs.append(x)\n",
    "    props.append(prop)\n",
    "print(f'average proportion of steps where pivot is colored: {average(props)}')"
   ]
  },
  {
   "cell_type": "code",
   "execution_count": null,
   "metadata": {},
   "outputs": [],
   "source": []
  },
  {
   "cell_type": "code",
   "execution_count": null,
   "metadata": {},
   "outputs": [],
   "source": []
  }
 ],
 "metadata": {
  "kernelspec": {
   "display_name": "Python 3",
   "language": "python",
   "name": "python3"
  },
  "language_info": {
   "codemirror_mode": {
    "name": "ipython",
    "version": 3
   },
   "file_extension": ".py",
   "mimetype": "text/x-python",
   "name": "python",
   "nbconvert_exporter": "python",
   "pygments_lexer": "ipython3",
   "version": "3.7.7"
  }
 },
 "nbformat": 4,
 "nbformat_minor": 4
}
