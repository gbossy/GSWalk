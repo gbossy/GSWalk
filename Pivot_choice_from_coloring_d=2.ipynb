{
 "cells": [
  {
   "cell_type": "code",
   "execution_count": 1,
   "metadata": {},
   "outputs": [],
   "source": [
    "from gsw import *"
   ]
  },
  {
   "cell_type": "code",
   "execution_count": 3,
   "metadata": {},
   "outputs": [],
   "source": [
    "d=2"
   ]
  },
  {
   "cell_type": "code",
   "execution_count": 3,
   "metadata": {},
   "outputs": [
    {
     "name": "stderr",
     "output_type": "stream",
     "text": [
      "C:\\Users\\Ga Bo\\Desktop\\Master Thesis\\GSWalk\\gsw.py:179: FutureWarning: `rcond` parameter will change to the default of machine precision times ``max(M, N)`` where M and N are the input matrix dimensions.\n",
      "To use the future default and silence this warning we advise to pass `rcond=None`, to keep using the old, explicitly pass `rcond=-1`.\n",
      "  u1=np.linalg.lstsq(B_t,-B[:,p])[0]\n",
      "C:\\Users\\Ga Bo\\Desktop\\Master Thesis\\GSWalk\\gsw.py:354: FutureWarning: `rcond` parameter will change to the default of machine precision times ``max(M, N)`` where M and N are the input matrix dimensions.\n",
      "To use the future default and silence this warning we advise to pass `rcond=None`, to keep using the old, explicitly pass `rcond=-1`.\n",
      "  sol=np.linalg.lstsq(m, i)\n"
     ]
    },
    {
     "name": "stdout",
     "output_type": "stream",
     "text": [
      "average proportion of steps where pivot is colored: 0.9446999999999994\n"
     ]
    }
   ],
   "source": [
    "n=100\n",
    "v=sample_from_ball(n,d=d)\n",
    "gsw_xs=[]\n",
    "props=[]\n",
    "for i in range(n):\n",
    "    #print(i)\n",
    "    x,prop=gram_schmidt_walk(v,np.zeros(n),plot=False,debug=False,return_pivot_in_colored=True,mode='coloring')\n",
    "    gsw_xs.append(x)\n",
    "    props.append(prop)\n",
    "print(f'average proportion of steps where pivot is colored: {average(props)}')"
   ]
  },
  {
   "cell_type": "code",
   "execution_count": 4,
   "metadata": {},
   "outputs": [
    {
     "name": "stdout",
     "output_type": "stream",
     "text": [
      "average proportion of steps where pivot is colored: 0.968\n"
     ]
    }
   ],
   "source": [
    "n=100\n",
    "v=sample_from_ball(n,d=d)\n",
    "gsw_xs=[]\n",
    "props=[]\n",
    "for i in range(n):\n",
    "    #print(i)\n",
    "    x,prop=gram_schmidt_walk(v,np.zeros(n),plot=False,debug=False,return_pivot_in_colored=True,smallest_delta=True,mode='coloring')\n",
    "    gsw_xs.append(x)\n",
    "    props.append(prop)\n",
    "print(f'average proportion of steps where pivot is colored: {average(props)}')"
   ]
  },
  {
   "cell_type": "code",
   "execution_count": 4,
   "metadata": {},
   "outputs": [
    {
     "name": "stderr",
     "output_type": "stream",
     "text": [
      "C:\\Users\\Ga Bo\\Desktop\\Master Thesis\\GSWalk\\gsw.py:179: FutureWarning: `rcond` parameter will change to the default of machine precision times ``max(M, N)`` where M and N are the input matrix dimensions.\n",
      "To use the future default and silence this warning we advise to pass `rcond=None`, to keep using the old, explicitly pass `rcond=-1`.\n",
      "  u1=np.linalg.lstsq(B_t,-B[:,p])[0]\n",
      "C:\\Users\\Ga Bo\\Desktop\\Master Thesis\\GSWalk\\gsw.py:354: FutureWarning: `rcond` parameter will change to the default of machine precision times ``max(M, N)`` where M and N are the input matrix dimensions.\n",
      "To use the future default and silence this warning we advise to pass `rcond=None`, to keep using the old, explicitly pass `rcond=-1`.\n",
      "  sol=np.linalg.lstsq(m, i)\n"
     ]
    },
    {
     "name": "stdout",
     "output_type": "stream",
     "text": [
      "average proportion of steps where pivot is colored: 0.9503999999999998\n"
     ]
    }
   ],
   "source": [
    "n=100\n",
    "v=sample_from_ball(n,d=d)\n",
    "gsw_xs=[]\n",
    "props=[]\n",
    "for i in range(n):\n",
    "    #print(i)\n",
    "    x,prop=gram_schmidt_walk(v,np.zeros(n),plot=False,debug=False,return_pivot_in_colored=True,mode='max_coloring')\n",
    "    gsw_xs.append(x)\n",
    "    props.append(prop)\n",
    "print(f'average proportion of steps where pivot is colored: {average(props)}')"
   ]
  },
  {
   "cell_type": "code",
   "execution_count": 5,
   "metadata": {},
   "outputs": [
    {
     "name": "stdout",
     "output_type": "stream",
     "text": [
      "average proportion of steps where pivot is colored: 0.9651999999999998\n"
     ]
    }
   ],
   "source": [
    "n=100\n",
    "v=sample_from_ball(n,d=d)\n",
    "gsw_xs=[]\n",
    "props=[]\n",
    "for i in range(n):\n",
    "    #print(i)\n",
    "    x,prop=gram_schmidt_walk(v,np.zeros(n),plot=False,debug=False,return_pivot_in_colored=True,mode='max_coloring',smallest_delta=True)\n",
    "    gsw_xs.append(x)\n",
    "    props.append(prop)\n",
    "print(f'average proportion of steps where pivot is colored: {average(props)}')"
   ]
  },
  {
   "cell_type": "code",
   "execution_count": null,
   "metadata": {},
   "outputs": [],
   "source": []
  },
  {
   "cell_type": "code",
   "execution_count": 6,
   "metadata": {},
   "outputs": [
    {
     "name": "stdout",
     "output_type": "stream",
     "text": [
      "average proportion of steps where pivot is colored: 0.8998000000000005\n"
     ]
    }
   ],
   "source": [
    "n=100\n",
    "v=sample_from_ball(n,d=d)\n",
    "for i in range(len(v)):\n",
    "    v[i]=normalize(v[i])*(i+1)\n",
    "    gsw_xs=[]\n",
    "props=[]\n",
    "for i in range(n):\n",
    "    #print(i)\n",
    "    x,prop=gram_schmidt_walk(v,np.zeros(n),plot=False,debug=False,return_pivot_in_colored=True,smallest_delta=False,mode='coloring')\n",
    "    gsw_xs.append(x)\n",
    "    props.append(prop)\n",
    "print(f'average proportion of steps where pivot is colored: {average(props)}')"
   ]
  },
  {
   "cell_type": "code",
   "execution_count": 7,
   "metadata": {},
   "outputs": [
    {
     "name": "stdout",
     "output_type": "stream",
     "text": [
      "average proportion of steps where pivot is colored: 0.9270999999999999\n"
     ]
    }
   ],
   "source": [
    "n=100\n",
    "v=sample_from_ball(n,d=d)\n",
    "for i in range(len(v)):\n",
    "    v[i]=normalize(v[i])*(i+1)\n",
    "    gsw_xs=[]\n",
    "props=[]\n",
    "for i in range(n):\n",
    "    #print(i)\n",
    "    x,prop=gram_schmidt_walk(v,np.zeros(n),plot=False,debug=False,return_pivot_in_colored=True,mode='coloring',smallest_delta=True)\n",
    "    gsw_xs.append(x)\n",
    "    props.append(prop)\n",
    "print(f'average proportion of steps where pivot is colored: {average(props)}')"
   ]
  },
  {
   "cell_type": "code",
   "execution_count": 8,
   "metadata": {},
   "outputs": [
    {
     "name": "stdout",
     "output_type": "stream",
     "text": [
      "average proportion of steps where pivot is colored: 0.9389000000000003\n"
     ]
    }
   ],
   "source": [
    "n=100\n",
    "v=sample_from_ball(n,d=d)\n",
    "for i in range(len(v)):\n",
    "    v[i]=normalize(v[i])*(i+1)\n",
    "    gsw_xs=[]\n",
    "props=[]\n",
    "for i in range(n):\n",
    "    #print(i)\n",
    "    x,prop=gram_schmidt_walk(v,np.zeros(n),plot=False,debug=False,return_pivot_in_colored=True,smallest_delta=False,mode='max_coloring')\n",
    "    gsw_xs.append(x)\n",
    "    props.append(prop)\n",
    "print(f'average proportion of steps where pivot is colored: {average(props)}')"
   ]
  },
  {
   "cell_type": "code",
   "execution_count": 17,
   "metadata": {},
   "outputs": [
    {
     "name": "stdout",
     "output_type": "stream",
     "text": [
      "average proportion of steps where pivot is colored: 0.9537999999999994\n"
     ]
    }
   ],
   "source": [
    "n=100\n",
    "v=sample_from_ball(n,d=d)\n",
    "for i in range(len(v)):\n",
    "    v[i]=normalize(v[i])*(i+1)\n",
    "    gsw_xs=[]\n",
    "props=[]\n",
    "for i in range(n):\n",
    "    #print(i)\n",
    "    x,prop=gram_schmidt_walk(v,np.zeros(n),plot=False,debug=False,return_pivot_in_colored=True,smallest_delta=True,mode='max_coloring')\n",
    "    gsw_xs.append(x)\n",
    "    props.append(prop)\n",
    "print(f'average proportion of steps where pivot is colored: {average(props)}')"
   ]
  },
  {
   "cell_type": "code",
   "execution_count": 10,
   "metadata": {},
   "outputs": [
    {
     "name": "stdout",
     "output_type": "stream",
     "text": [
      "average proportion of steps where pivot is colored: 0.5495000000000001\n"
     ]
    }
   ],
   "source": [
    "#Now third vector set\n",
    "n=100\n",
    "v=sample_from_ball(n,d=d)\n",
    "for i in range(len(v)):\n",
    "    v[i]=normalize(v[i])*(1 if i<n/2 else n)\n",
    "gsw_xs=[]\n",
    "props=[]\n",
    "for i in range(n):\n",
    "    x,prop=gram_schmidt_walk(v,np.zeros(n),plot=False,debug=False,return_pivot_in_colored=True,smallest_delta=False,mode='coloring')\n",
    "    gsw_xs.append(x)\n",
    "    props.append(prop)\n",
    "print(f'average proportion of steps where pivot is colored: {average(props)}')"
   ]
  },
  {
   "cell_type": "code",
   "execution_count": 11,
   "metadata": {},
   "outputs": [
    {
     "name": "stdout",
     "output_type": "stream",
     "text": [
      "average proportion of steps where pivot is colored: 0.5657999999999999\n"
     ]
    }
   ],
   "source": [
    "#Now third vector set\n",
    "n=100\n",
    "v=sample_from_ball(n,d=d)\n",
    "for i in range(len(v)):\n",
    "    v[i]=normalize(v[i])*(1 if i<n/2 else n)\n",
    "gsw_xs=[]\n",
    "props=[]\n",
    "for i in range(n):\n",
    "    x,prop=gram_schmidt_walk(v,np.zeros(n),plot=False,debug=False,return_pivot_in_colored=True,smallest_delta=True,mode='coloring')\n",
    "    gsw_xs.append(x)\n",
    "    props.append(prop)\n",
    "print(f'average proportion of steps where pivot is colored: {average(props)}')"
   ]
  },
  {
   "cell_type": "code",
   "execution_count": 15,
   "metadata": {},
   "outputs": [
    {
     "name": "stdout",
     "output_type": "stream",
     "text": [
      "average proportion of steps where pivot is colored: 0.5901000000000001\n"
     ]
    }
   ],
   "source": [
    "#Now third vector set\n",
    "n=100\n",
    "v=sample_from_ball(n,d=d)\n",
    "for i in range(len(v)):\n",
    "    v[i]=normalize(v[i])*(1 if i<n/2 else n)\n",
    "gsw_xs=[]\n",
    "props=[]\n",
    "for i in range(n):\n",
    "    x,prop=gram_schmidt_walk(v,np.zeros(n),plot=False,debug=False,return_pivot_in_colored=True,smallest_delta=False,mode='max_coloring')\n",
    "    gsw_xs.append(x)\n",
    "    props.append(prop)\n",
    "print(f'average proportion of steps where pivot is colored: {average(props)}')"
   ]
  },
  {
   "cell_type": "code",
   "execution_count": 16,
   "metadata": {},
   "outputs": [
    {
     "name": "stdout",
     "output_type": "stream",
     "text": [
      "average proportion of steps where pivot is colored: 0.6003000000000003\n"
     ]
    }
   ],
   "source": [
    "#Now third vector set\n",
    "n=100\n",
    "v=sample_from_ball(n,d=d)\n",
    "for i in range(len(v)):\n",
    "    v[i]=normalize(v[i])*(1 if i<n/2 else n)\n",
    "gsw_xs=[]\n",
    "props=[]\n",
    "for i in range(n):\n",
    "    x,prop=gram_schmidt_walk(v,np.zeros(n),plot=False,debug=False,return_pivot_in_colored=True,smallest_delta=True,mode='max_coloring')\n",
    "    gsw_xs.append(x)\n",
    "    props.append(prop)\n",
    "print(f'average proportion of steps where pivot is colored: {average(props)}')"
   ]
  },
  {
   "cell_type": "code",
   "execution_count": null,
   "metadata": {},
   "outputs": [],
   "source": []
  },
  {
   "cell_type": "code",
   "execution_count": null,
   "metadata": {},
   "outputs": [],
   "source": []
  },
  {
   "cell_type": "code",
   "execution_count": null,
   "metadata": {},
   "outputs": [],
   "source": []
  }
 ],
 "metadata": {
  "kernelspec": {
   "display_name": "Python 3",
   "language": "python",
   "name": "python3"
  },
  "language_info": {
   "codemirror_mode": {
    "name": "ipython",
    "version": 3
   },
   "file_extension": ".py",
   "mimetype": "text/x-python",
   "name": "python",
   "nbconvert_exporter": "python",
   "pygments_lexer": "ipython3",
   "version": "3.7.7"
  }
 },
 "nbformat": 4,
 "nbformat_minor": 4
}
