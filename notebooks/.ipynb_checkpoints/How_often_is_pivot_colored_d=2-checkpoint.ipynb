{
 "cells": [
  {
   "cell_type": "code",
   "execution_count": 1,
   "metadata": {},
   "outputs": [],
   "source": [
    "from gsw import *"
   ]
  },
  {
   "cell_type": "code",
   "execution_count": null,
   "metadata": {},
   "outputs": [],
   "source": [
    "d=100"
   ]
  },
  {
   "cell_type": "code",
   "execution_count": 5,
   "metadata": {},
   "outputs": [
    {
     "name": "stdout",
     "output_type": "stream",
     "text": [
      "average proportion of steps where pivot is colored: 0.5315999999999997\n"
     ]
    }
   ],
   "source": [
    "n=100\n",
    "v=sample_from_ball(n,d=d)\n",
    "gsw_xs=[]\n",
    "props=[]\n",
    "for i in range(n):\n",
    "    #print(i)\n",
    "    x,prop=gram_schmidt_walk(v,np.zeros(n),plot=False,debug=False,return_pivot_in_colored=True)\n",
    "    gsw_xs.append(x)\n",
    "    props.append(prop)\n",
    "print(f'average proportion of steps where pivot is colored: {average(props)}')"
   ]
  },
  {
   "cell_type": "code",
   "execution_count": 6,
   "metadata": {},
   "outputs": [
    {
     "name": "stdout",
     "output_type": "stream",
     "text": [
      "average proportion of steps where pivot is colored: 0.5213\n"
     ]
    }
   ],
   "source": [
    "n=100\n",
    "v=sample_from_ball(n,d=d)\n",
    "gsw_xs=[]\n",
    "props=[]\n",
    "for i in range(n):\n",
    "    #print(i)\n",
    "    x,prop=gram_schmidt_walk(v,np.zeros(n),plot=False,debug=False,return_pivot_in_colored=True,smallest_delta=True)\n",
    "    gsw_xs.append(x)\n",
    "    props.append(prop)\n",
    "print(f'average proportion of steps where pivot is colored: {average(props)}')"
   ]
  },
  {
   "cell_type": "code",
   "execution_count": 2,
   "metadata": {},
   "outputs": [
    {
     "name": "stderr",
     "output_type": "stream",
     "text": [
      "C:\\Users\\Ga Bo\\Desktop\\Master Thesis\\GSWalk\\gsw.py:337: FutureWarning: `rcond` parameter will change to the default of machine precision times ``max(M, N)`` where M and N are the input matrix dimensions.\n",
      "To use the future default and silence this warning we advise to pass `rcond=None`, to keep using the old, explicitly pass `rcond=-1`.\n",
      "  sol=np.linalg.lstsq(m, i)\n"
     ]
    },
    {
     "name": "stdout",
     "output_type": "stream",
     "text": [
      "average proportion of steps where pivot is colored: 0.5369999999999999\n"
     ]
    }
   ],
   "source": [
    "n=100\n",
    "v=sample_from_ball(n,d=d)\n",
    "gsw_xs=[]\n",
    "props=[]\n",
    "for i in range(n):\n",
    "    #print(i)\n",
    "    x,prop=gram_schmidt_walk(v,np.zeros(n),plot=False,debug=False,return_pivot_in_colored=True,mode='norm')\n",
    "    gsw_xs.append(x)\n",
    "    props.append(prop)\n",
    "print(f'average proportion of steps where pivot is colored: {average(props)}')"
   ]
  },
  {
   "cell_type": "code",
   "execution_count": null,
   "metadata": {},
   "outputs": [],
   "source": [
    "n=100\n",
    "v=sample_from_ball(n,d=d)\n",
    "gsw_xs=[]\n",
    "props=[]\n",
    "for i in range(n):\n",
    "    #print(i)\n",
    "    x,prop=gram_schmidt_walk(v,np.zeros(n),plot=False,debug=False,return_pivot_in_colored=True,mode='norm',smallest_delta=True)\n",
    "    gsw_xs.append(x)\n",
    "    props.append(prop)\n",
    "print(f'average proportion of steps where pivot is colored: {average(props)}')"
   ]
  },
  {
   "cell_type": "code",
   "execution_count": null,
   "metadata": {},
   "outputs": [],
   "source": [
    "n=100\n",
    "v=sample_from_ball(n,d=d)\n",
    "gsw_xs=[]\n",
    "props=[]\n",
    "for i in range(n):\n",
    "    #print(i)\n",
    "    x,prop=gram_schmidt_walk(v,np.zeros(n),plot=False,debug=False,return_pivot_in_colored=True,mode='max_norm')\n",
    "    gsw_xs.append(x)\n",
    "    props.append(prop)\n",
    "print(f'average proportion of steps where pivot is colored: {average(props)}')"
   ]
  },
  {
   "cell_type": "code",
   "execution_count": null,
   "metadata": {},
   "outputs": [],
   "source": [
    "n=100\n",
    "v=sample_from_ball(n,d=d)\n",
    "gsw_xs=[]\n",
    "props=[]\n",
    "for i in range(n):\n",
    "    #print(i)\n",
    "    x,prop=gram_schmidt_walk(v,np.zeros(n),plot=False,debug=False,return_pivot_in_colored=True,mode='max_norm',smallest_delta=True)\n",
    "    gsw_xs.append(x)\n",
    "    props.append(prop)\n",
    "print(f'average proportion of steps where pivot is colored: {average(props)}')"
   ]
  },
  {
   "cell_type": "code",
   "execution_count": null,
   "metadata": {},
   "outputs": [],
   "source": []
  },
  {
   "cell_type": "code",
   "execution_count": null,
   "metadata": {},
   "outputs": [],
   "source": [
    "n=100\n",
    "v=sample_from_ball(n,d=d)\n",
    "for i in range(len(v)):\n",
    "    v[i]=normalize(v[i])*(i+1)\n",
    "    gsw_xs=[]\n",
    "props=[]\n",
    "for i in range(n):\n",
    "    #print(i)\n",
    "    x,prop=gram_schmidt_walk(v,np.zeros(n),plot=False,debug=False,return_pivot_in_colored=True,smallest_delta=False)\n",
    "    gsw_xs.append(x)\n",
    "    props.append(prop)\n",
    "print(f'average proportion of steps where pivot is colored: {average(props)}')"
   ]
  },
  {
   "cell_type": "code",
   "execution_count": null,
   "metadata": {},
   "outputs": [],
   "source": [
    "n=100\n",
    "v=sample_from_ball(n,d=d)\n",
    "for i in range(len(v)):\n",
    "    v[i]=normalize(v[i])*(i+1)\n",
    "    gsw_xs=[]\n",
    "props=[]\n",
    "for i in range(n):\n",
    "    #print(i)\n",
    "    x,prop=gram_schmidt_walk(v,np.zeros(n),plot=False,debug=False,return_pivot_in_colored=True,smallest_delta=True)\n",
    "    gsw_xs.append(x)\n",
    "    props.append(prop)\n",
    "print(f'average proportion of steps where pivot is colored: {average(props)}')"
   ]
  },
  {
   "cell_type": "code",
   "execution_count": null,
   "metadata": {},
   "outputs": [],
   "source": [
    "n=100\n",
    "v=sample_from_ball(n,d=d)\n",
    "for i in range(len(v)):\n",
    "    v[i]=normalize(v[i])*(i+1)\n",
    "    gsw_xs=[]\n",
    "props=[]\n",
    "for i in range(n):\n",
    "    #print(i)\n",
    "    x,prop=gram_schmidt_walk(v,np.zeros(n),plot=False,debug=False,return_pivot_in_colored=True,smallest_delta=False,mode='norm')\n",
    "    gsw_xs.append(x)\n",
    "    props.append(prop)\n",
    "print(f'average proportion of steps where pivot is colored: {average(props)}')"
   ]
  },
  {
   "cell_type": "code",
   "execution_count": null,
   "metadata": {},
   "outputs": [],
   "source": [
    "n=100\n",
    "v=sample_from_ball(n,d=d)\n",
    "for i in range(len(v)):\n",
    "    v[i]=normalize(v[i])*(i+1)\n",
    "    gsw_xs=[]\n",
    "props=[]\n",
    "for i in range(n):\n",
    "    #print(i)\n",
    "    x,prop=gram_schmidt_walk(v,np.zeros(n),plot=False,debug=False,return_pivot_in_colored=True,smallest_delta=True,mode='norm')\n",
    "    gsw_xs.append(x)\n",
    "    props.append(prop)\n",
    "print(f'average proportion of steps where pivot is colored: {average(props)}')"
   ]
  },
  {
   "cell_type": "code",
   "execution_count": null,
   "metadata": {},
   "outputs": [],
   "source": [
    "n=100\n",
    "v=sample_from_ball(n,d=d)\n",
    "for i in range(len(v)):\n",
    "    v[i]=normalize(v[i])*(i+1)\n",
    "    gsw_xs=[]\n",
    "props=[]\n",
    "for i in range(n):\n",
    "    #print(i)\n",
    "    x,prop=gram_schmidt_walk(v,np.zeros(n),plot=False,debug=False,return_pivot_in_colored=True,smallest_delta=False,mode='max_norm')\n",
    "    gsw_xs.append(x)\n",
    "    props.append(prop)\n",
    "print(f'average proportion of steps where pivot is colored: {average(props)}')"
   ]
  },
  {
   "cell_type": "code",
   "execution_count": null,
   "metadata": {},
   "outputs": [],
   "source": [
    "n=100\n",
    "v=sample_from_ball(n,d=d)\n",
    "for i in range(len(v)):\n",
    "    v[i]=normalize(v[i])*(i+1)\n",
    "gsw_xs=[]\n",
    "props=[]\n",
    "for i in range(n):\n",
    "    #print(i)\n",
    "    x,prop=gram_schmidt_walk(v,np.zeros(n),plot=False,debug=False,return_pivot_in_colored=True,smallest_delta=True,mode='max_norm')\n",
    "    gsw_xs.append(x)\n",
    "    props.append(prop)\n",
    "print(f'average proportion of steps where pivot is colored: {average(props)}')"
   ]
  },
  {
   "cell_type": "code",
   "execution_count": null,
   "metadata": {},
   "outputs": [],
   "source": [
    "#Now third vector set\n",
    "n=100\n",
    "v=sample_from_ball(n,d=d)\n",
    "for i in range(len(v)):\n",
    "    v[i]=normalize(v[i])*(1 if i<n/2 else n)\n",
    "gsw_xs=[]\n",
    "props=[]\n",
    "for i in range(n):\n",
    "    x,prop=gram_schmidt_walk(v,np.zeros(n),plot=False,debug=False,return_pivot_in_colored=True,smallest_delta=True,mode='max_norm')\n",
    "    gsw_xs.append(x)\n",
    "    props.append(prop)\n",
    "print(f'average proportion of steps where pivot is colored: {average(props)}')"
   ]
  },
  {
   "cell_type": "code",
   "execution_count": null,
   "metadata": {},
   "outputs": [],
   "source": [
    "#Now third vector set\n",
    "n=100\n",
    "v=sample_from_ball(n,d=d)\n",
    "for i in range(len(v)):\n",
    "    v[i]=normalize(v[i])*(1 if i<n/2 else n)\n",
    "gsw_xs=[]\n",
    "props=[]\n",
    "for i in range(n):\n",
    "    x,prop=gram_schmidt_walk(v,np.zeros(n),plot=False,debug=False,return_pivot_in_colored=True,smallest_delta=False,mode='max_norm')\n",
    "    gsw_xs.append(x)\n",
    "    props.append(prop)\n",
    "print(f'average proportion of steps where pivot is colored: {average(props)}')"
   ]
  },
  {
   "cell_type": "code",
   "execution_count": null,
   "metadata": {},
   "outputs": [],
   "source": [
    "#Now third vector set\n",
    "n=100\n",
    "v=sample_from_ball(n,d=d)\n",
    "for i in range(len(v)):\n",
    "    v[i]=normalize(v[i])*(1 if i<n/2 else n)\n",
    "gsw_xs=[]\n",
    "props=[]\n",
    "for i in range(n):\n",
    "    x,prop=gram_schmidt_walk(v,np.zeros(n),plot=False,debug=False,return_pivot_in_colored=True,smallest_delta=True,mode='random')\n",
    "    gsw_xs.append(x)\n",
    "    props.append(prop)\n",
    "print(f'average proportion of steps where pivot is colored: {average(props)}')"
   ]
  },
  {
   "cell_type": "code",
   "execution_count": null,
   "metadata": {},
   "outputs": [],
   "source": [
    "#Now third vector set\n",
    "n=100\n",
    "v=sample_from_ball(n,d=d)\n",
    "for i in range(len(v)):\n",
    "    v[i]=normalize(v[i])*(1 if i<n/2 else n)\n",
    "gsw_xs=[]\n",
    "props=[]\n",
    "for i in range(n):\n",
    "    x,prop=gram_schmidt_walk(v,np.zeros(n),plot=False,debug=False,return_pivot_in_colored=True,smallest_delta=False,mode='random')\n",
    "    gsw_xs.append(x)\n",
    "    props.append(prop)\n",
    "print(f'average proportion of steps where pivot is colored: {average(props)}')"
   ]
  },
  {
   "cell_type": "code",
   "execution_count": null,
   "metadata": {},
   "outputs": [],
   "source": [
    "#Now third vector set\n",
    "n=100\n",
    "v=sample_from_ball(n,d=d)\n",
    "for i in range(len(v)):\n",
    "    v[i]=normalize(v[i])*(1 if i<n/2 else n)\n",
    "gsw_xs=[]\n",
    "props=[]\n",
    "for i in range(n):\n",
    "    x,prop=gram_schmidt_walk(v,np.zeros(n),plot=False,debug=False,return_pivot_in_colored=True,smallest_delta=True,mode='norm')\n",
    "    gsw_xs.append(x)\n",
    "    props.append(prop)\n",
    "print(f'average proportion of steps where pivot is colored: {average(props)}')"
   ]
  },
  {
   "cell_type": "code",
   "execution_count": null,
   "metadata": {},
   "outputs": [],
   "source": [
    "#Now third vector set\n",
    "n=100\n",
    "v=sample_from_ball(n,d=d)\n",
    "for i in range(len(v)):\n",
    "    v[i]=normalize(v[i])*(1 if i<n/2 else n)\n",
    "gsw_xs=[]\n",
    "props=[]\n",
    "for i in range(n):\n",
    "    x,prop=gram_schmidt_walk(v,np.zeros(n),plot=False,debug=False,return_pivot_in_colored=True,smallest_delta=False,mode='norm')\n",
    "    gsw_xs.append(x)\n",
    "    props.append(prop)\n",
    "print(f'average proportion of steps where pivot is colored: {average(props)}')"
   ]
  },
  {
   "cell_type": "code",
   "execution_count": null,
   "metadata": {},
   "outputs": [],
   "source": []
  },
  {
   "cell_type": "code",
   "execution_count": null,
   "metadata": {},
   "outputs": [],
   "source": []
  }
 ],
 "metadata": {
  "kernelspec": {
   "display_name": "Python 3",
   "language": "python",
   "name": "python3"
  },
  "language_info": {
   "codemirror_mode": {
    "name": "ipython",
    "version": 3
   },
   "file_extension": ".py",
   "mimetype": "text/x-python",
   "name": "python",
   "nbconvert_exporter": "python",
   "pygments_lexer": "ipython3",
   "version": "3.7.7"
  }
 },
 "nbformat": 4,
 "nbformat_minor": 4
}
