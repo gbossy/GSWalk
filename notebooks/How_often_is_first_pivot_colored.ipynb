{
 "cells": [
  {
   "cell_type": "code",
   "execution_count": 2,
   "metadata": {},
   "outputs": [],
   "source": [
    "from gsw import *"
   ]
  },
  {
   "cell_type": "code",
   "execution_count": 3,
   "metadata": {},
   "outputs": [],
   "source": [
    "d=100#Check everything as order is somewhat illogic"
   ]
  },
  {
   "cell_type": "code",
   "execution_count": 7,
   "metadata": {},
   "outputs": [
    {
     "name": "stdout",
     "output_type": "stream",
     "text": [
      "average proportion of steps where pivot is colored: 0.0349\n"
     ]
    }
   ],
   "source": [
    "n=100\n",
    "props=[]\n",
    "for i in range(10**4):\n",
    "    v=sample_from_ball(n,d=d)\n",
    "    x,prop=gram_schmidt_walk(v,np.zeros(n),plot=False,debug=False,return_pivot_in_colored=True,early_stop=1,pivot=i%100)\n",
    "    props.append(prop)\n",
    "print(f'average proportion of steps where pivot is colored: {average(props)}')"
   ]
  },
  {
   "cell_type": "code",
   "execution_count": 8,
   "metadata": {},
   "outputs": [
    {
     "name": "stdout",
     "output_type": "stream",
     "text": [
      "average proportion of steps where pivot is colored: 0.0303\n"
     ]
    }
   ],
   "source": [
    "#same as before but normalized\n",
    "n=100\n",
    "props=[]\n",
    "for i in range(10**4):\n",
    "    v=sample_from_ball(n,d=d)\n",
    "    for j in range(len(v)):\n",
    "        v[j]=normalize(v[j])\n",
    "    x,prop=gram_schmidt_walk(v,np.zeros(n),plot=False,debug=False,return_pivot_in_colored=True,early_stop=1,pivot=i%100)\n",
    "    props.append(prop)\n",
    "print(f'average proportion of steps where pivot is colored: {average(props)}')"
   ]
  },
  {
   "cell_type": "code",
   "execution_count": 27,
   "metadata": {},
   "outputs": [
    {
     "name": "stdout",
     "output_type": "stream",
     "text": [
      "average proportion of steps where pivot is colored: 0.0481\n"
     ]
    }
   ],
   "source": [
    "n=100\n",
    "props=[]\n",
    "for i in range(10**4):\n",
    "    v=sample_from_ball(n,d=d)\n",
    "    for j in range(len(v)):\n",
    "        v[j]=normalize(v[j])*(j+1)\n",
    "    x,prop=gram_schmidt_walk(v,np.zeros(n),plot=False,debug=False,return_pivot_in_colored=True,early_stop=1,pivot=i%100)\n",
    "    props.append(prop)\n",
    "print(f'average proportion of steps where pivot is colored: {average(props)}')"
   ]
  },
  {
   "cell_type": "code",
   "execution_count": 28,
   "metadata": {},
   "outputs": [
    {
     "name": "stdout",
     "output_type": "stream",
     "text": [
      "average proportion of steps where pivot is colored: 0.087\n"
     ]
    }
   ],
   "source": [
    "n=100\n",
    "props=[]\n",
    "for i in range(10**4):\n",
    "    v=sample_from_ball(n,d=d)\n",
    "    for j in range(len(v)):\n",
    "        v[j]=normalize(v[j])*(1 if i<n/2 else n)\n",
    "    x,prop=gram_schmidt_walk(v,np.zeros(n),plot=False,debug=False,return_pivot_in_colored=True,early_stop=1,pivot=i%100)\n",
    "    props.append(prop)\n",
    "print(f'average proportion of steps where pivot is colored: {average(props)}')"
   ]
  },
  {
   "cell_type": "code",
   "execution_count": 11,
   "metadata": {},
   "outputs": [],
   "source": [
    "d=10"
   ]
  },
  {
   "cell_type": "code",
   "execution_count": 12,
   "metadata": {},
   "outputs": [
    {
     "name": "stdout",
     "output_type": "stream",
     "text": [
      "average proportion of steps where pivot is colored: 0.8937\n"
     ]
    }
   ],
   "source": [
    "n=100\n",
    "props=[]\n",
    "for i in range(10**4):\n",
    "    v=sample_from_ball(n,d=d)\n",
    "    x,prop=gram_schmidt_walk(v,np.zeros(n),plot=False,debug=False,return_pivot_in_colored=True,early_stop=1,pivot=i%100)\n",
    "    props.append(prop)\n",
    "print(f'average proportion of steps where pivot is colored: {average(props)}')"
   ]
  },
  {
   "cell_type": "code",
   "execution_count": 13,
   "metadata": {},
   "outputs": [
    {
     "name": "stdout",
     "output_type": "stream",
     "text": [
      "average proportion of steps where pivot is colored: 0.9697\n"
     ]
    }
   ],
   "source": [
    "#same as before but normalized\n",
    "n=100\n",
    "props=[]\n",
    "for i in range(10**4):\n",
    "    v=sample_from_ball(n,d=d)\n",
    "    for j in range(len(v)):\n",
    "        v[j]=normalize(v[j])\n",
    "    x,prop=gram_schmidt_walk(v,np.zeros(n),plot=False,debug=False,return_pivot_in_colored=True,early_stop=1,pivot=i%100)\n",
    "    props.append(prop)\n",
    "print(f'average proportion of steps where pivot is colored: {average(props)}')"
   ]
  },
  {
   "cell_type": "code",
   "execution_count": 29,
   "metadata": {},
   "outputs": [
    {
     "name": "stdout",
     "output_type": "stream",
     "text": [
      "average proportion of steps where pivot is colored: 0.0479\n"
     ]
    }
   ],
   "source": [
    "n=100\n",
    "props=[]\n",
    "for i in range(10**4):\n",
    "    v=sample_from_ball(n,d=d)\n",
    "    for j in range(len(v)):\n",
    "        v[j]=normalize(v[j])*(j+1)\n",
    "    x,prop=gram_schmidt_walk(v,np.zeros(n),plot=False,debug=False,return_pivot_in_colored=True,early_stop=1,pivot=i%100)\n",
    "    props.append(prop)\n",
    "print(f'average proportion of steps where pivot is colored: {average(props)}')"
   ]
  },
  {
   "cell_type": "code",
   "execution_count": 31,
   "metadata": {},
   "outputs": [
    {
     "name": "stdout",
     "output_type": "stream",
     "text": [
      "average proportion of steps where pivot is colored: 0.063\n"
     ]
    }
   ],
   "source": [
    "n=100\n",
    "props=[]\n",
    "for i in range(10**4):\n",
    "    v=sample_from_ball(n,d=d)\n",
    "    for j in range(len(v)):\n",
    "        v[j]=normalize(v[j])*(1 if j<n/2 else n)\n",
    "    x,prop=gram_schmidt_walk(v,np.zeros(n),plot=False,debug=False,return_pivot_in_colored=True,early_stop=1,pivot=i%100)\n",
    "    props.append(prop)\n",
    "print(f'average proportion of steps where pivot is colored: {average(props)}')"
   ]
  },
  {
   "cell_type": "code",
   "execution_count": 16,
   "metadata": {},
   "outputs": [],
   "source": [
    "d=2"
   ]
  },
  {
   "cell_type": "code",
   "execution_count": 17,
   "metadata": {},
   "outputs": [
    {
     "name": "stdout",
     "output_type": "stream",
     "text": [
      "average proportion of steps where pivot is colored: 0.0555\n"
     ]
    }
   ],
   "source": [
    "n=100\n",
    "props=[]\n",
    "for i in range(10**4):\n",
    "    v=sample_from_ball(n,d=d)\n",
    "    x,prop=gram_schmidt_walk(v,np.zeros(n),plot=False,debug=False,return_pivot_in_colored=True,early_stop=1,pivot=i%100)\n",
    "    props.append(prop)\n",
    "print(f'average proportion of steps where pivot is colored: {average(props)}')"
   ]
  },
  {
   "cell_type": "code",
   "execution_count": 18,
   "metadata": {},
   "outputs": [
    {
     "name": "stdout",
     "output_type": "stream",
     "text": [
      "average proportion of steps where pivot is colored: 0.0901\n"
     ]
    }
   ],
   "source": [
    "#same as before but normalized\n",
    "n=100\n",
    "props=[]\n",
    "for i in range(10**4):\n",
    "    v=sample_from_ball(n,d=d)\n",
    "    for j in range(len(v)):\n",
    "        v[j]=normalize(v[j])\n",
    "    x,prop=gram_schmidt_walk(v,np.zeros(n),plot=False,debug=False,return_pivot_in_colored=True,early_stop=1,pivot=i%100)\n",
    "    props.append(prop)\n",
    "print(f'average proportion of steps where pivot is colored: {average(props)}')"
   ]
  },
  {
   "cell_type": "code",
   "execution_count": 19,
   "metadata": {},
   "outputs": [
    {
     "name": "stdout",
     "output_type": "stream",
     "text": [
      "average proportion of steps where pivot is colored: 0.8916\n"
     ]
    }
   ],
   "source": [
    "n=100\n",
    "props=[]\n",
    "for i in range(10**4):\n",
    "    v=sample_from_ball(n,d=d)\n",
    "    for j in range(len(v)):\n",
    "        v[j]=normalize(v[j])*(j+1)\n",
    "    x,prop=gram_schmidt_walk(v,np.zeros(n),plot=False,debug=False,return_pivot_in_colored=True,early_stop=1,pivot=i%100)\n",
    "    props.append(prop)\n",
    "print(f'average proportion of steps where pivot is colored: {average(props)}')"
   ]
  },
  {
   "cell_type": "code",
   "execution_count": 30,
   "metadata": {},
   "outputs": [
    {
     "name": "stdout",
     "output_type": "stream",
     "text": [
      "average proportion of steps where pivot is colored: 0.0616\n"
     ]
    }
   ],
   "source": [
    "n=100\n",
    "props=[]\n",
    "for i in range(10**4):\n",
    "    v=sample_from_ball(n,d=d)\n",
    "    for j in range(len(v)):\n",
    "        v[j]=normalize(v[j])*(1 if j<n/2 else n)\n",
    "    x,prop=gram_schmidt_walk(v,np.zeros(n),plot=False,debug=False,return_pivot_in_colored=True,early_stop=1,pivot=i%100)\n",
    "    props.append(prop)\n",
    "print(f'average proportion of steps where pivot is colored: {average(props)}')"
   ]
  },
  {
   "cell_type": "code",
   "execution_count": null,
   "metadata": {},
   "outputs": [],
   "source": [
    "#additional random tests"
   ]
  },
  {
   "cell_type": "code",
   "execution_count": 23,
   "metadata": {},
   "outputs": [
    {
     "name": "stdout",
     "output_type": "stream",
     "text": [
      "average proportion of steps where pivot is colored: 1.0\n"
     ]
    }
   ],
   "source": [
    "props=[]\n",
    "for i in range(10**4):\n",
    "    v=sample_from_ball(2,d=2)\n",
    "    for j in range(len(v)):\n",
    "        v[j]=normalize(v[j])\n",
    "    x,prop=gram_schmidt_walk(v,np.zeros(2),plot=False,debug=False,return_pivot_in_colored=True,early_stop=1,pivot=i%2)\n",
    "    props.append(prop)\n",
    "print(f'average proportion of steps where pivot is colored: {average(props)}')"
   ]
  },
  {
   "cell_type": "code",
   "execution_count": 26,
   "metadata": {},
   "outputs": [
    {
     "name": "stdout",
     "output_type": "stream",
     "text": [
      "average proportion of steps where pivot is colored: 0.691265\n"
     ]
    }
   ],
   "source": [
    "props=[]\n",
    "for i in range(10**6):\n",
    "    v=sample_from_ball(3,d=3)\n",
    "    for j in range(len(v)):\n",
    "        v[j]=normalize(v[j])\n",
    "    x,prop=gram_schmidt_walk(v,np.zeros(3),plot=False,debug=False,return_pivot_in_colored=True,early_stop=1,pivot=i%3)\n",
    "    props.append(prop)\n",
    "print(f'average proportion of steps where pivot is colored: {average(props)}')"
   ]
  },
  {
   "cell_type": "code",
   "execution_count": null,
   "metadata": {},
   "outputs": [],
   "source": []
  }
 ],
 "metadata": {
  "kernelspec": {
   "display_name": "Python 3",
   "language": "python",
   "name": "python3"
  },
  "language_info": {
   "codemirror_mode": {
    "name": "ipython",
    "version": 3
   },
   "file_extension": ".py",
   "mimetype": "text/x-python",
   "name": "python",
   "nbconvert_exporter": "python",
   "pygments_lexer": "ipython3",
   "version": "3.7.7"
  }
 },
 "nbformat": 4,
 "nbformat_minor": 4
}
