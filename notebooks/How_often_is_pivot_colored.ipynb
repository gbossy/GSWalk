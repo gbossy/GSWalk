{
 "cells": [
  {
   "cell_type": "code",
   "execution_count": 1,
   "metadata": {},
   "outputs": [],
   "source": [
    "from gsw import *"
   ]
  },
  {
   "cell_type": "code",
   "execution_count": null,
   "metadata": {},
   "outputs": [],
   "source": [
    "d=100#Check everything as order is somewhat illogic"
   ]
  },
  {
   "cell_type": "code",
   "execution_count": 5,
   "metadata": {},
   "outputs": [
    {
     "name": "stdout",
     "output_type": "stream",
     "text": [
      "average proportion of steps where pivot is colored: 0.5315999999999997\n"
     ]
    }
   ],
   "source": [
    "n=100\n",
    "v=sample_from_ball(n,d=d)\n",
    "gsw_xs=[]\n",
    "props=[]\n",
    "for i in range(n):\n",
    "    #print(i)\n",
    "    x,prop=gram_schmidt_walk(v,np.zeros(n),plot=False,debug=False,return_pivot_in_colored=True)\n",
    "    gsw_xs.append(x)\n",
    "    props.append(prop)\n",
    "print(f'average proportion of steps where pivot is colored: {average(props)}')"
   ]
  },
  {
   "cell_type": "code",
   "execution_count": 6,
   "metadata": {},
   "outputs": [
    {
     "name": "stdout",
     "output_type": "stream",
     "text": [
      "average proportion of steps where pivot is colored: 0.5213\n"
     ]
    }
   ],
   "source": [
    "n=100\n",
    "v=sample_from_ball(n,d=d)\n",
    "gsw_xs=[]\n",
    "props=[]\n",
    "for i in range(n):\n",
    "    #print(i)\n",
    "    x,prop=gram_schmidt_walk(v,np.zeros(n),plot=False,debug=False,return_pivot_in_colored=True,smallest_delta=True)\n",
    "    gsw_xs.append(x)\n",
    "    props.append(prop)\n",
    "print(f'average proportion of steps where pivot is colored: {average(props)}')"
   ]
  },
  {
   "cell_type": "code",
   "execution_count": 2,
   "metadata": {},
   "outputs": [
    {
     "name": "stderr",
     "output_type": "stream",
     "text": [
      "C:\\Users\\Ga Bo\\Desktop\\Master Thesis\\GSWalk\\gsw.py:337: FutureWarning: `rcond` parameter will change to the default of machine precision times ``max(M, N)`` where M and N are the input matrix dimensions.\n",
      "To use the future default and silence this warning we advise to pass `rcond=None`, to keep using the old, explicitly pass `rcond=-1`.\n",
      "  sol=np.linalg.lstsq(m, i)\n"
     ]
    },
    {
     "name": "stdout",
     "output_type": "stream",
     "text": [
      "average proportion of steps where pivot is colored: 0.5369999999999999\n"
     ]
    }
   ],
   "source": [
    "n=100\n",
    "v=sample_from_ball(n,d=d)\n",
    "gsw_xs=[]\n",
    "props=[]\n",
    "for i in range(n):\n",
    "    #print(i)\n",
    "    x,prop=gram_schmidt_walk(v,np.zeros(n),plot=False,debug=False,return_pivot_in_colored=True,mode='norm')\n",
    "    gsw_xs.append(x)\n",
    "    props.append(prop)\n",
    "print(f'average proportion of steps where pivot is colored: {average(props)}')"
   ]
  },
  {
   "cell_type": "code",
   "execution_count": 3,
   "metadata": {},
   "outputs": [
    {
     "name": "stdout",
     "output_type": "stream",
     "text": [
      "average proportion of steps where pivot is colored: 0.5249000000000001\n"
     ]
    }
   ],
   "source": [
    "n=100\n",
    "v=sample_from_ball(n,d=d)\n",
    "gsw_xs=[]\n",
    "props=[]\n",
    "for i in range(n):\n",
    "    #print(i)\n",
    "    x,prop=gram_schmidt_walk(v,np.zeros(n),plot=False,debug=False,return_pivot_in_colored=True,mode='norm',smallest_delta=True)\n",
    "    gsw_xs.append(x)\n",
    "    props.append(prop)\n",
    "print(f'average proportion of steps where pivot is colored: {average(props)}')"
   ]
  },
  {
   "cell_type": "code",
   "execution_count": 4,
   "metadata": {},
   "outputs": [
    {
     "name": "stdout",
     "output_type": "stream",
     "text": [
      "average proportion of steps where pivot is colored: 0.5270999999999998\n"
     ]
    }
   ],
   "source": [
    "n=100\n",
    "v=sample_from_ball(n,d=d)\n",
    "gsw_xs=[]\n",
    "props=[]\n",
    "for i in range(n):\n",
    "    #print(i)\n",
    "    x,prop=gram_schmidt_walk(v,np.zeros(n),plot=False,debug=False,return_pivot_in_colored=True,mode='max_norm')\n",
    "    gsw_xs.append(x)\n",
    "    props.append(prop)\n",
    "print(f'average proportion of steps where pivot is colored: {average(props)}')"
   ]
  },
  {
   "cell_type": "code",
   "execution_count": 5,
   "metadata": {},
   "outputs": [
    {
     "name": "stdout",
     "output_type": "stream",
     "text": [
      "average proportion of steps where pivot is colored: 0.5376000000000002\n"
     ]
    }
   ],
   "source": [
    "n=100\n",
    "v=sample_from_ball(n,d=d)\n",
    "gsw_xs=[]\n",
    "props=[]\n",
    "for i in range(n):\n",
    "    #print(i)\n",
    "    x,prop=gram_schmidt_walk(v,np.zeros(n),plot=False,debug=False,return_pivot_in_colored=True,mode='max_norm',smallest_delta=True)\n",
    "    gsw_xs.append(x)\n",
    "    props.append(prop)\n",
    "print(f'average proportion of steps where pivot is colored: {average(props)}')"
   ]
  },
  {
   "cell_type": "code",
   "execution_count": null,
   "metadata": {},
   "outputs": [],
   "source": []
  },
  {
   "cell_type": "code",
   "execution_count": 6,
   "metadata": {},
   "outputs": [
    {
     "name": "stdout",
     "output_type": "stream",
     "text": [
      "average proportion of steps where pivot is colored: 0.4624999999999998\n"
     ]
    }
   ],
   "source": [
    "n=100\n",
    "v=sample_from_ball(n,d=d)\n",
    "for i in range(len(v)):\n",
    "    v[i]=normalize(v[i])*(i+1)\n",
    "    gsw_xs=[]\n",
    "props=[]\n",
    "for i in range(n):\n",
    "    #print(i)\n",
    "    x,prop=gram_schmidt_walk(v,np.zeros(n),plot=False,debug=False,return_pivot_in_colored=True,smallest_delta=False)\n",
    "    gsw_xs.append(x)\n",
    "    props.append(prop)\n",
    "print(f'average proportion of steps where pivot is colored: {average(props)}')"
   ]
  },
  {
   "cell_type": "code",
   "execution_count": 7,
   "metadata": {},
   "outputs": [
    {
     "name": "stdout",
     "output_type": "stream",
     "text": [
      "average proportion of steps where pivot is colored: 0.46099999999999963\n"
     ]
    }
   ],
   "source": [
    "n=100\n",
    "v=sample_from_ball(n,d=d)\n",
    "for i in range(len(v)):\n",
    "    v[i]=normalize(v[i])*(i+1)\n",
    "    gsw_xs=[]\n",
    "props=[]\n",
    "for i in range(n):\n",
    "    #print(i)\n",
    "    x,prop=gram_schmidt_walk(v,np.zeros(n),plot=False,debug=False,return_pivot_in_colored=True,smallest_delta=True)\n",
    "    gsw_xs.append(x)\n",
    "    props.append(prop)\n",
    "print(f'average proportion of steps where pivot is colored: {average(props)}')"
   ]
  },
  {
   "cell_type": "code",
   "execution_count": 8,
   "metadata": {},
   "outputs": [
    {
     "name": "stdout",
     "output_type": "stream",
     "text": [
      "average proportion of steps where pivot is colored: 0.4210999999999999\n"
     ]
    }
   ],
   "source": [
    "n=100\n",
    "v=sample_from_ball(n,d=d)\n",
    "for i in range(len(v)):\n",
    "    v[i]=normalize(v[i])*(i+1)\n",
    "    gsw_xs=[]\n",
    "props=[]\n",
    "for i in range(n):\n",
    "    #print(i)\n",
    "    x,prop=gram_schmidt_walk(v,np.zeros(n),plot=False,debug=False,return_pivot_in_colored=True,smallest_delta=False,mode='norm')\n",
    "    gsw_xs.append(x)\n",
    "    props.append(prop)\n",
    "print(f'average proportion of steps where pivot is colored: {average(props)}')"
   ]
  },
  {
   "cell_type": "code",
   "execution_count": 9,
   "metadata": {},
   "outputs": [
    {
     "name": "stdout",
     "output_type": "stream",
     "text": [
      "average proportion of steps where pivot is colored: 0.4409999999999998\n"
     ]
    }
   ],
   "source": [
    "n=100\n",
    "v=sample_from_ball(n,d=d)\n",
    "for i in range(len(v)):\n",
    "    v[i]=normalize(v[i])*(i+1)\n",
    "    gsw_xs=[]\n",
    "props=[]\n",
    "for i in range(n):\n",
    "    #print(i)\n",
    "    x,prop=gram_schmidt_walk(v,np.zeros(n),plot=False,debug=False,return_pivot_in_colored=True,smallest_delta=True,mode='norm')\n",
    "    gsw_xs.append(x)\n",
    "    props.append(prop)\n",
    "print(f'average proportion of steps where pivot is colored: {average(props)}')"
   ]
  },
  {
   "cell_type": "code",
   "execution_count": 10,
   "metadata": {},
   "outputs": [
    {
     "name": "stdout",
     "output_type": "stream",
     "text": [
      "average proportion of steps where pivot is colored: 0.3620999999999998\n"
     ]
    }
   ],
   "source": [
    "n=100\n",
    "v=sample_from_ball(n,d=d)\n",
    "for i in range(len(v)):\n",
    "    v[i]=normalize(v[i])*(i+1)\n",
    "    gsw_xs=[]\n",
    "props=[]\n",
    "for i in range(n):\n",
    "    #print(i)\n",
    "    x,prop=gram_schmidt_walk(v,np.zeros(n),plot=False,debug=False,return_pivot_in_colored=True,smallest_delta=False,mode='max_norm')\n",
    "    gsw_xs.append(x)\n",
    "    props.append(prop)\n",
    "print(f'average proportion of steps where pivot is colored: {average(props)}')"
   ]
  },
  {
   "cell_type": "code",
   "execution_count": 11,
   "metadata": {},
   "outputs": [
    {
     "name": "stdout",
     "output_type": "stream",
     "text": [
      "average proportion of steps where pivot is colored: 0.3866999999999999\n"
     ]
    }
   ],
   "source": [
    "n=100\n",
    "v=sample_from_ball(n,d=d)\n",
    "for i in range(len(v)):\n",
    "    v[i]=normalize(v[i])*(i+1)\n",
    "gsw_xs=[]\n",
    "props=[]\n",
    "for i in range(n):\n",
    "    #print(i)\n",
    "    x,prop=gram_schmidt_walk(v,np.zeros(n),plot=False,debug=False,return_pivot_in_colored=True,smallest_delta=True,mode='max_norm')\n",
    "    gsw_xs.append(x)\n",
    "    props.append(prop)\n",
    "print(f'average proportion of steps where pivot is colored: {average(props)}')"
   ]
  },
  {
   "cell_type": "code",
   "execution_count": 12,
   "metadata": {},
   "outputs": [
    {
     "name": "stdout",
     "output_type": "stream",
     "text": [
      "average proportion of steps where pivot is colored: 0.4311999999999997\n"
     ]
    }
   ],
   "source": [
    "#Now third vector set\n",
    "n=100\n",
    "v=sample_from_ball(n,d=d)\n",
    "for i in range(len(v)):\n",
    "    v[i]=normalize(v[i])*(1 if i<n/2 else n)\n",
    "gsw_xs=[]\n",
    "props=[]\n",
    "for i in range(n):\n",
    "    x,prop=gram_schmidt_walk(v,np.zeros(n),plot=False,debug=False,return_pivot_in_colored=True,smallest_delta=True,mode='max_norm')\n",
    "    gsw_xs.append(x)\n",
    "    props.append(prop)\n",
    "print(f'average proportion of steps where pivot is colored: {average(props)}')"
   ]
  },
  {
   "cell_type": "code",
   "execution_count": 13,
   "metadata": {},
   "outputs": [
    {
     "name": "stdout",
     "output_type": "stream",
     "text": [
      "average proportion of steps where pivot is colored: 0.4202999999999999\n"
     ]
    }
   ],
   "source": [
    "#Now third vector set\n",
    "n=100\n",
    "v=sample_from_ball(n,d=d)\n",
    "for i in range(len(v)):\n",
    "    v[i]=normalize(v[i])*(1 if i<n/2 else n)\n",
    "gsw_xs=[]\n",
    "props=[]\n",
    "for i in range(n):\n",
    "    x,prop=gram_schmidt_walk(v,np.zeros(n),plot=False,debug=False,return_pivot_in_colored=True,smallest_delta=False,mode='max_norm')\n",
    "    gsw_xs.append(x)\n",
    "    props.append(prop)\n",
    "print(f'average proportion of steps where pivot is colored: {average(props)}')"
   ]
  },
  {
   "cell_type": "code",
   "execution_count": 14,
   "metadata": {},
   "outputs": [
    {
     "name": "stdout",
     "output_type": "stream",
     "text": [
      "average proportion of steps where pivot is colored: 0.44500000000000023\n"
     ]
    }
   ],
   "source": [
    "#Now third vector set\n",
    "n=100\n",
    "v=sample_from_ball(n,d=d)\n",
    "for i in range(len(v)):\n",
    "    v[i]=normalize(v[i])*(1 if i<n/2 else n)\n",
    "gsw_xs=[]\n",
    "props=[]\n",
    "for i in range(n):\n",
    "    x,prop=gram_schmidt_walk(v,np.zeros(n),plot=False,debug=False,return_pivot_in_colored=True,smallest_delta=True,mode='random')\n",
    "    gsw_xs.append(x)\n",
    "    props.append(prop)\n",
    "print(f'average proportion of steps where pivot is colored: {average(props)}')"
   ]
  },
  {
   "cell_type": "code",
   "execution_count": 15,
   "metadata": {},
   "outputs": [
    {
     "name": "stdout",
     "output_type": "stream",
     "text": [
      "average proportion of steps where pivot is colored: 0.43819999999999987\n"
     ]
    }
   ],
   "source": [
    "#Now third vector set\n",
    "n=100\n",
    "v=sample_from_ball(n,d=d)\n",
    "for i in range(len(v)):\n",
    "    v[i]=normalize(v[i])*(1 if i<n/2 else n)\n",
    "gsw_xs=[]\n",
    "props=[]\n",
    "for i in range(n):\n",
    "    x,prop=gram_schmidt_walk(v,np.zeros(n),plot=False,debug=False,return_pivot_in_colored=True,smallest_delta=False,mode='random')\n",
    "    gsw_xs.append(x)\n",
    "    props.append(prop)\n",
    "print(f'average proportion of steps where pivot is colored: {average(props)}')"
   ]
  },
  {
   "cell_type": "code",
   "execution_count": 16,
   "metadata": {},
   "outputs": [
    {
     "name": "stdout",
     "output_type": "stream",
     "text": [
      "average proportion of steps where pivot is colored: 0.424\n"
     ]
    }
   ],
   "source": [
    "#Now third vector set\n",
    "n=100\n",
    "v=sample_from_ball(n,d=d)\n",
    "for i in range(len(v)):\n",
    "    v[i]=normalize(v[i])*(1 if i<n/2 else n)\n",
    "gsw_xs=[]\n",
    "props=[]\n",
    "for i in range(n):\n",
    "    x,prop=gram_schmidt_walk(v,np.zeros(n),plot=False,debug=False,return_pivot_in_colored=True,smallest_delta=True,mode='norm')\n",
    "    gsw_xs.append(x)\n",
    "    props.append(prop)\n",
    "print(f'average proportion of steps where pivot is colored: {average(props)}')"
   ]
  },
  {
   "cell_type": "code",
   "execution_count": 17,
   "metadata": {},
   "outputs": [
    {
     "name": "stdout",
     "output_type": "stream",
     "text": [
      "average proportion of steps where pivot is colored: 0.43420000000000014\n"
     ]
    }
   ],
   "source": [
    "#Now third vector set\n",
    "n=100\n",
    "v=sample_from_ball(n,d=d)\n",
    "for i in range(len(v)):\n",
    "    v[i]=normalize(v[i])*(1 if i<n/2 else n)\n",
    "gsw_xs=[]\n",
    "props=[]\n",
    "for i in range(n):\n",
    "    x,prop=gram_schmidt_walk(v,np.zeros(n),plot=False,debug=False,return_pivot_in_colored=True,smallest_delta=False,mode='norm')\n",
    "    gsw_xs.append(x)\n",
    "    props.append(prop)\n",
    "print(f'average proportion of steps where pivot is colored: {average(props)}')"
   ]
  },
  {
   "cell_type": "code",
   "execution_count": null,
   "metadata": {},
   "outputs": [],
   "source": []
  },
  {
   "cell_type": "code",
   "execution_count": null,
   "metadata": {},
   "outputs": [],
   "source": []
  }
 ],
 "metadata": {
  "kernelspec": {
   "display_name": "Python 3",
   "language": "python",
   "name": "python3"
  },
  "language_info": {
   "codemirror_mode": {
    "name": "ipython",
    "version": 3
   },
   "file_extension": ".py",
   "mimetype": "text/x-python",
   "name": "python",
   "nbconvert_exporter": "python",
   "pygments_lexer": "ipython3",
   "version": "3.7.7"
  }
 },
 "nbformat": 4,
 "nbformat_minor": 4
}
