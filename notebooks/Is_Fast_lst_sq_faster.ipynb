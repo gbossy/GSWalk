{
 "cells": [
  {
   "cell_type": "code",
   "execution_count": 1,
   "metadata": {},
   "outputs": [],
   "source": [
    "from gsw import *"
   ]
  },
  {
   "cell_type": "code",
   "execution_count": 2,
   "metadata": {},
   "outputs": [
    {
     "name": "stdout",
     "output_type": "stream",
     "text": [
      "Wall time: 172 ms\n"
     ]
    },
    {
     "name": "stderr",
     "output_type": "stream",
     "text": [
      "C:\\Users\\Ga Bo\\Desktop\\Master Thesis\\GSWalk\\gsw.py:122: FutureWarning: `rcond` parameter will change to the default of machine precision times ``max(M, N)`` where M and N are the input matrix dimensions.\n",
      "To use the future default and silence this warning we advise to pass `rcond=None`, to keep using the old, explicitly pass `rcond=-1`.\n",
      "  u1=np.linalg.lstsq(B_t,-B[:,p])[0]\n"
     ]
    }
   ],
   "source": [
    "%%time\n",
    "n=10\n",
    "v=sample_from_sphere(n)\n",
    "v=sample_from_ball(n,d=n)\n",
    "gsw_xs=[]\n",
    "for i in range(n):\n",
    "    gsw_xs.append(gram_schmidt_walk(v,np.zeros(n),plot=False,debug=False,fast_lst_sq=False))"
   ]
  },
  {
   "cell_type": "code",
   "execution_count": 6,
   "metadata": {},
   "outputs": [
    {
     "name": "stdout",
     "output_type": "stream",
     "text": [
      "Wall time: 130 ms\n"
     ]
    }
   ],
   "source": [
    "%%time\n",
    "n=10\n",
    "v=sample_from_sphere(n)\n",
    "v=sample_from_ball(n,d=n)\n",
    "gsw_xs=[]\n",
    "for i in range(n):\n",
    "    gsw_xs.append(gram_schmidt_walk(v,np.zeros(n),plot=False,debug=False,fast_lst_sq=True))"
   ]
  },
  {
   "cell_type": "code",
   "execution_count": 8,
   "metadata": {},
   "outputs": [
    {
     "name": "stdout",
     "output_type": "stream",
     "text": [
      "Wall time: 2min 32s\n"
     ]
    }
   ],
   "source": [
    "%%time\n",
    "n=100\n",
    "v=sample_from_sphere(n)\n",
    "v=sample_from_ball(n,d=n)\n",
    "gsw_xs=[]\n",
    "for i in range(n):\n",
    "    gsw_xs.append(gram_schmidt_walk(v,np.zeros(n),plot=False,debug=False,fast_lst_sq=False))"
   ]
  },
  {
   "cell_type": "code",
   "execution_count": 9,
   "metadata": {},
   "outputs": [
    {
     "name": "stdout",
     "output_type": "stream",
     "text": [
      "Wall time: 2min 16s\n"
     ]
    }
   ],
   "source": [
    "%%time\n",
    "n=100\n",
    "v=sample_from_sphere(n)\n",
    "v=sample_from_ball(n,d=n)\n",
    "gsw_xs=[]\n",
    "for i in range(n):\n",
    "    gsw_xs.append(gram_schmidt_walk(v,np.zeros(n),plot=False,debug=False,fast_lst_sq=True))"
   ]
  },
  {
   "cell_type": "code",
   "execution_count": 10,
   "metadata": {},
   "outputs": [
    {
     "name": "stdout",
     "output_type": "stream",
     "text": [
      "Wall time: 34min 42s\n"
     ]
    }
   ],
   "source": [
    "%%time\n",
    "n=200\n",
    "v=sample_from_sphere(n)\n",
    "v=sample_from_ball(n,d=n)\n",
    "gsw_xs=[]\n",
    "for i in range(n):\n",
    "    gsw_xs.append(gram_schmidt_walk(v,np.zeros(n),plot=False,debug=False,fast_lst_sq=False))"
   ]
  },
  {
   "cell_type": "code",
   "execution_count": 11,
   "metadata": {},
   "outputs": [
    {
     "name": "stdout",
     "output_type": "stream",
     "text": [
      "Wall time: 26min 39s\n"
     ]
    }
   ],
   "source": [
    "%%time\n",
    "n=200\n",
    "v=sample_from_sphere(n)\n",
    "v=sample_from_ball(n,d=n)\n",
    "gsw_xs=[]\n",
    "for i in range(n):\n",
    "    gsw_xs.append(gram_schmidt_walk(v,np.zeros(n),plot=False,debug=False,fast_lst_sq=True))"
   ]
  },
  {
   "cell_type": "code",
   "execution_count": null,
   "metadata": {},
   "outputs": [],
   "source": []
  }
 ],
 "metadata": {
  "kernelspec": {
   "display_name": "Python 3",
   "language": "python",
   "name": "python3"
  },
  "language_info": {
   "codemirror_mode": {
    "name": "ipython",
    "version": 3
   },
   "file_extension": ".py",
   "mimetype": "text/x-python",
   "name": "python",
   "nbconvert_exporter": "python",
   "pygments_lexer": "ipython3",
   "version": "3.7.7"
  }
 },
 "nbformat": 4,
 "nbformat_minor": 4
}
